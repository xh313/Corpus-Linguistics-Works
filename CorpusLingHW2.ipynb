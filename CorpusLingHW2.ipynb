{
  "nbformat": 4,
  "nbformat_minor": 0,
  "metadata": {
    "colab": {
      "name": "CorpusLingHW2.ipynb",
      "provenance": [],
      "collapsed_sections": []
    },
    "kernelspec": {
      "name": "python3",
      "display_name": "Python 3"
    },
    "language_info": {
      "name": "python"
    }
  },
  "cells": [
    {
      "cell_type": "markdown",
      "source": [
        "#LGCS 124 S22\n",
        "##Homework #2\n",
        "\n",
        "Submit your response on Sakai as a text document.\n",
        "\n",
        "IMPORTANT: In your response, be sure to include not only your results/answers but also how you got to the answer (you may submit code, but it is not required except when explicitly called for)."
      ],
      "metadata": {
        "id": "OCM-gtrjXtxR"
      }
    },
    {
      "cell_type": "code",
      "execution_count": null,
      "metadata": {
        "id": "ltNN12eVXkZT"
      },
      "outputs": [],
      "source": [
        "# Drive mounting and downloading cell\n",
        "\n",
        "from google.colab import drive\n",
        "drive.mount('/content/drive')\n",
        "\n",
        "import nltk\n",
        "nltk.download(\"punkt\")\n",
        "nltk.download(\"stopwords\")\n",
        "from nltk.corpus import stopwords\n"
      ]
    },
    {
      "cell_type": "code",
      "source": [
        "# Importing cell\n",
        "\n",
        "import string\n",
        "import re\n",
        "from collections import Counter\n",
        "from nltk import ngrams"
      ],
      "metadata": {
        "id": "Z3-ljbRmZa0U"
      },
      "execution_count": 28,
      "outputs": []
    },
    {
      "cell_type": "code",
      "source": [
        "# Gutenborg corpora accessing\n",
        "\n",
        "infile1 = open('/content/drive/My Drive/LGCS124/Copy of austen-emma.txt', 'r')\n",
        "austen_emma = infile1.read()\n",
        "infile2 = open('/content/drive/My Drive/LGCS124/Copy of austen-sense.txt', 'r')\n",
        "austen_sense = infile2.read()\n",
        "infile3 = open('/content/drive/My Drive/LGCS124/Copy of austen-persuasion.txt', 'r')\n",
        "austen_persuasion = infile3.read()\n",
        "infile4 = open('/content/drive/My Drive/LGCS124/Copy of bible-kjv.txt', 'r')\n",
        "bible_kjv = infile4.read()\n",
        "infile5 = open('/content/drive/My Drive/LGCS124/Copy of shakespeare.txt', 'r')\n",
        "shakespeare = infile5.read()\n",
        "infile6 = open('/content/drive/My Drive/LGCS124/Copy of whitman-leaves.txt', 'r')\n",
        "whitman_leaves = infile6.read()\n",
        "infile7 = open('/content/drive/My Drive/LGCS124/Copy of independence.txt', 'r')\n",
        "independence = infile7.read()\n",
        "infile8 = open('/content/drive/My Drive/LGCS124/Copy of milton-paradise.txt', 'r')\n",
        "milton_paradise = infile8.read()\n",
        "infile9 = open('/content/drive/My Drive/LGCS124/Copy of hawthorne-gables.txt', 'r')\n",
        "hawthorne_gables = infile9.read()\n",
        "infile10 = open('/content/drive/My Drive/LGCS124/Copy of constitution.txt', 'r')\n",
        "constitution = infile10.read()\n",
        "infile11 = open('/content/drive/My Drive/LGCS124/Copy of blake-songs.txt', 'r')\n",
        "blake_songs = infile11.read()\n",
        "infile12 = open('/content/drive/My Drive/LGCS124/Copy of blake-poems.txt', 'r')\n",
        "blake_poems = infile12.read()\n",
        "infile13 = open('/content/drive/My Drive/LGCS124/Copy of dickens-oliver.txt', 'r')\n",
        "dickens_oliver = infile13.read()\n",
        "infile14 = open('/content/drive/My Drive/LGCS124/Copy of dickens-expectations.txt', 'r')\n",
        "dickens_expectations = infile14.read()\n",
        "infile15 = open('/content/drive/My Drive/LGCS124/Copy of dickens-drood.txt', 'r')\n",
        "dickens_drood = infile15.read()"
      ],
      "metadata": {
        "id": "aZrar8YmaWZG"
      },
      "execution_count": 7,
      "outputs": []
    },
    {
      "cell_type": "markdown",
      "source": [
        "### 1. Only one author in /data/corpora/Gutenberg uses the word 'and' more often than 'the'. Who is it? (Hint: It's ok to simplify this question by looking only at lower-case uses of these two words)"
      ],
      "metadata": {
        "id": "CsARR2jaamp1"
      }
    },
    {
      "cell_type": "code",
      "source": [
        "# Lowercasing all the texts\n",
        "\n",
        "list_corpus = [austen_emma, austen_sense, austen_persuasion, bible_kjv, \n",
        "               shakespeare, whitman_leaves, independence, milton_paradise, \n",
        "               hawthorne_gables, constitution, blake_songs, blake_poems, \n",
        "               dickens_oliver, dickens_expectations, dickens_drood]\n",
        "\n",
        "def lower_all(my_list):  # Convert all texts to lowercase and store them as vars lower+number\n",
        "  for i in range(0,15):\n",
        "    globals()['lower' + str(i)] = my_list[i].lower()  \n",
        "  return globals()['lower' + str(i)]\n",
        "\n",
        "lower_all(list_corpus)\n",
        "#print(lower1[:1000])"
      ],
      "metadata": {
        "id": "Dv1GmXykdLpR"
      },
      "execution_count": null,
      "outputs": []
    },
    {
      "cell_type": "code",
      "source": [
        "# Function to find all 'and' and return the number of occurances\n",
        "\n",
        "def count_and(text):\n",
        "  and_tokens = re.findall(r'\\s+and\\s+', text)\n",
        "  return len(and_tokens)\n",
        "\n",
        "# Func to find all 'the'\n",
        "def count_the(text):\n",
        "  the_tokens = re.findall(r'\\s+the\\s+', text)\n",
        "  return len(the_tokens)\n"
      ],
      "metadata": {
        "id": "6zyftaZIjmtL"
      },
      "execution_count": 9,
      "outputs": []
    },
    {
      "cell_type": "code",
      "source": [
        "# Find them in all texts\n",
        "\n",
        "and_list = [] # initialize\n",
        "the_list = []\n",
        "\n",
        "# Generate two lists containing the number of and and the in all texts\n",
        "for i in range(0,15):\n",
        "  and_list.append(count_and(globals()['lower' + str(i)]))\n",
        "  the_list.append(count_the(globals()['lower' + str(i)]))\n",
        "\n",
        "# Tell me which author in the list!\n",
        "def tell_and_the():\n",
        "  for i in range(0,15):\n",
        "    if and_list[i] > the_list[i]:\n",
        "      return i\n",
        "  return None\n",
        "\n",
        "tell_and_the()"
      ],
      "metadata": {
        "colab": {
          "base_uri": "https://localhost:8080/"
        },
        "id": "-BySROvUl33k",
        "outputId": "bcd7401f-f17c-4090-bbe5-2a75ab86f49c"
      },
      "execution_count": 14,
      "outputs": [
        {
          "output_type": "execute_result",
          "data": {
            "text/plain": [
              "7"
            ]
          },
          "metadata": {},
          "execution_count": 14
        }
      ]
    },
    {
      "cell_type": "markdown",
      "source": [
        "Therefore, the text that is the 7th (counting from 0), which is `milton_paradise`, contains more 'and' than 'the'!"
      ],
      "metadata": {
        "id": "f7fEAdRwvAKC"
      }
    },
    {
      "cell_type": "markdown",
      "source": [
        "### 2. How many word types appear in the Bible exactly twice?\n"
      ],
      "metadata": {
        "id": "5dN1BTOSvdPv"
      }
    },
    {
      "cell_type": "code",
      "source": [
        "# Continue using lowercase\n",
        "\n",
        "lower_bib = lower3 # Just so that I don't have to remember its sequence number\n",
        "\n",
        "tokens_bib = re.findall(r'[a-z]+', lower_bib)  # Tokenizes the lowercased bible\n",
        "\n",
        "count_bib = list(Counter(tokens_bib).items())  # Make the counter into a list of tuples\n",
        "\n",
        "# A function that returns the list of words that appear two times\n",
        "def two_times():\n",
        "  two_times_list = []\n",
        "  for word, times in count_bib:  # Since I have already made the word counts into a list of 2-tuples\n",
        "    if times == 2:\n",
        "      two_times_list.append(word)\n",
        "  return two_times_list\n",
        "\n",
        "print(len(two_times())) # Print out the length of the list above"
      ],
      "metadata": {
        "colab": {
          "base_uri": "https://localhost:8080/"
        },
        "id": "9VAB3xK1vnMN",
        "outputId": "29601352-28b6-4e0f-9f00-2da851df0246"
      },
      "execution_count": 24,
      "outputs": [
        {
          "output_type": "stream",
          "name": "stdout",
          "text": [
            "1743\n"
          ]
        }
      ]
    },
    {
      "cell_type": "markdown",
      "source": [
        "Therefore, 1743 words appear exactly twice in the Bible!"
      ],
      "metadata": {
        "id": "pu0_8hXTzMHY"
      }
    },
    {
      "cell_type": "markdown",
      "source": [
        "### 3. How many of the word types (vocabulary items) in the Declaration of Independence never occur in Shakespeare??"
      ],
      "metadata": {
        "id": "49mw8zC5zYmD"
      }
    },
    {
      "cell_type": "code",
      "source": [
        "# Lowercase, strip punctuations, count tokens\n",
        "\n",
        "\n",
        "independence = independence.lower()\n",
        "independence = independence.translate(str.maketrans('', '', string.punctuation))\n",
        "ind_tokens = nltk.tokenize.word_tokenize(independence)\n",
        "ind_c = Counter(ind_tokens)\n",
        "\n",
        "\n",
        "shakespeare = shakespeare.lower()\n",
        "shakespeare = shakespeare.translate(str.maketrans('', '', string.punctuation))\n",
        "sha_tokens = nltk.tokenize.word_tokenize(shakespeare)\n",
        "sha_c = Counter(sha_tokens)\n",
        "\n",
        "\n",
        "# Print the length of the set that contains elements included in independence but not shakespeare\n",
        "\n",
        "print(len(set(ind_c.keys()) - set(sha_c.keys())))"
      ],
      "metadata": {
        "colab": {
          "base_uri": "https://localhost:8080/"
        },
        "id": "U-0he87l0QRn",
        "outputId": "bc3d7f85-526b-470d-b0c7-7984c0f0faf3"
      },
      "execution_count": 25,
      "outputs": [
        {
          "output_type": "stream",
          "name": "stdout",
          "text": [
            "103\n"
          ]
        }
      ]
    },
    {
      "cell_type": "markdown",
      "source": [
        "Therefore, 103 word types only appear in `independence` but not `shakespeare`!\n"
      ],
      "metadata": {
        "id": "ZmuLcXRC02vp"
      }
    },
    {
      "cell_type": "markdown",
      "source": [
        "### 4. What are the three most frequent TRIgrams in Blake’s poems??"
      ],
      "metadata": {
        "id": "awFL57CQ1Hgb"
      }
    },
    {
      "cell_type": "code",
      "source": [
        "blakep_lower = lower11  # Just so that I don't have to remember its sequence number\n",
        "\n",
        "tokens_blakep = re.findall(r'[a-z]+', blakep_lower)  # Tokenizes the lowercased bible\n",
        "\n",
        "bp3grams = list(ngrams(tokens_blakep, 3))  # Creating a list of trigrams\n",
        "\n",
        "trigram_counter = Counter(bp3grams)  # Counts trigrams\n",
        "\n",
        "print(trigram_counter.most_common(3))  # Most common 3"
      ],
      "metadata": {
        "colab": {
          "base_uri": "https://localhost:8080/"
        },
        "id": "qbHxpgxr1aAE",
        "outputId": "86c6af32-3608-43cc-f638-98bb808c858b"
      },
      "execution_count": 30,
      "outputs": [
        {
          "output_type": "stream",
          "name": "stdout",
          "text": [
            "[(('the', 'voice', 'of'), 5), (('the', 'human', 'form'), 5), (('can', 'it', 'be'), 5)]\n"
          ]
        }
      ]
    },
    {
      "cell_type": "markdown",
      "source": [
        "Thus the most frequent trigrams are as shown above!"
      ],
      "metadata": {
        "id": "mEQIFkWM2nLE"
      }
    },
    {
      "cell_type": "markdown",
      "source": [
        "### 5. Take a look at “About Ngram Viewer” (https://books.google.com/ngrams/info), especially advanced options for searches.\n",
        "\n",
        "Use Google Ngram Viewer (books.google.com/ngrams) to look at a diachronic\n",
        "(across time) effect related in some way to language of prejudice, discrimination, or otherwise related to a historically oppressed population. You might look at something to do with race, ethnicity, religion, class, gender, gender identification, sexual orientation, age, ableism... Produce a VERY short write-up, just a few sentences is ok: (1) what phenomenon did you look at; (2) your search parameters (terms, range\n",
        "of years, other options); (3) a capture of your resulting graph; (4) very briefly, what you think the graph reveals (Did it match or not match your expectations?)."
      ],
      "metadata": {
        "id": "IJkBDQCW2qlO"
      }
    },
    {
      "cell_type": "markdown",
      "source": [
        "1) I am looking at the relative representation of gay-identifying men versus women.\n",
        "\n",
        "2) Search parameters: \n",
        "  - Keyword: `gay women + lesbian + gay woman,gay men + gay + gay man`. This might be slightly flawed as sometimes the term 'gay' is slightly broader than 'lesbian' as women sometimes so identify without specifing 'gay women', so it might lead to an unproportionately high occurance of the latter Ngram.\n",
        "  - Range of years: 1960-2019. The reason is that the term *gay* has multiple meanings and is especially common in old literature to express happiness instead of the meaning I am looking for, so there was a significant peak around 1850-1920 that I would not like to look at.\n",
        "\n",
        "3) \n",
        "\n",
        "![image](https://user-images.githubusercontent.com/77285010/153723772-31f0a7b7-1b57-451f-8ba7-568c1412c1ab.png)\n",
        "\n",
        "4) It did match my expectation that within the underrepresented group of gay people, men are still significantly more represented than women, perhaps due to the traditional taboo attached to the discussion of the desire, preferences and intimate identities of women. What is surprising is that the occurance of the term is even declining in recent years -- I wonder what has happened."
      ],
      "metadata": {
        "id": "L4ha8qflAVx9"
      }
    }
  ]
}