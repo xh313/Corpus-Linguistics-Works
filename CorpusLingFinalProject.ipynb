{
  "nbformat": 4,
  "nbformat_minor": 0,
  "metadata": {
    "colab": {
      "name": "CorpusLingFinalProject.ipynb",
      "provenance": [],
      "collapsed_sections": [
        "BqyIvmtAuIqt",
        "2p_z0LNEVIJ5",
        "jr1itR2XTq9-"
      ],
      "toc_visible": true,
      "authorship_tag": "ABX9TyMaKQcnU45LQpcsFeBXditb",
      "include_colab_link": true
    },
    "kernelspec": {
      "name": "python3",
      "display_name": "Python 3"
    },
    "language_info": {
      "name": "python"
    }
  },
  "cells": [
    {
      "cell_type": "markdown",
      "metadata": {
        "id": "view-in-github",
        "colab_type": "text"
      },
      "source": [
        "<a href=\"https://colab.research.google.com/github/xh313/Corpus-Linguistics-Works/blob/main/CorpusLingFinalProject.ipynb\" target=\"_parent\"><img src=\"https://colab.research.google.com/assets/colab-badge.svg\" alt=\"Open In Colab\"/></a>"
      ]
    },
    {
      "cell_type": "markdown",
      "source": [
        "# Planning"
      ],
      "metadata": {
        "id": "8rF6plh7ycKh"
      }
    },
    {
      "cell_type": "markdown",
      "source": [
        "## Inspiration:\n",
        "![meme](https://user-images.githubusercontent.com/77285010/161146641-d099beed-56d7-40ef-8ae4-0083fe473d6f.png)\n",
        "\n",
        "(source: https://www.reddit.com/r/Suomi/comments/tqx5ac/mielipide_suomesta_eri_alaredditeiss%C3%A4/)\n",
        "\n",
        "When I was learning Finnish through browsing the Finnish language community on reddit r/suomi (meaning Finland in Finnish), I saw this meme which makes a contrast between the English language subreddit on Finland and the native language one. Obviously, the contrast between the sentiment on the place of the natives and the 'tourists' is pretty hilarious. I am thus intrigued to see what the differences are through analysing the corpora!\n"
      ],
      "metadata": {
        "id": "k596vr7xuvRl"
      }
    },
    {
      "cell_type": "markdown",
      "source": [
        "## Idea\n",
        "\n",
        "- Scrap the English and native language subreddits of different places in the world and compare sentiments.\n",
        "- Assume that the English corpora represent the discussions within 'international community', while the native corpora represent the 'local community'.\n",
        "- Compare and contrast:\n",
        "  - English vs Native sentiments\n",
        "  - How the contrast is different for different countries / places around the world.\n",
        "- (?) More detailed analysis on several particular data sets?"
      ],
      "metadata": {
        "id": "a8wNNVUVv5KU"
      }
    },
    {
      "cell_type": "markdown",
      "source": [
        "## Methods\n",
        "- Scrap the subreddits\n",
        "- Translation: first compare if the sentiment of the translated corpora is similar enough to the original corpora by sampling a few languages\n",
        "- If translation does not strip the sentiment too much, the translated corpora would be used to do comparative analysis."
      ],
      "metadata": {
        "id": "KQWpV0-yxpNW"
      }
    },
    {
      "cell_type": "markdown",
      "source": [
        "\n",
        "\n",
        "---\n",
        "\n",
        "\n",
        "## [NOT UPDATING] Channel lists:\n",
        "\n",
        "No longer updating since this is too laborious.\n",
        "\n",
        "E = English, N = Native\n",
        "\n",
        "- Poland:\n",
        "  - E: https://www.reddit.com/r/poland/\n",
        "  - N: https://www.reddit.com/r/Polska/\n",
        "\n",
        "- Finland:\n",
        "  - E: https://www.reddit.com/r/Finland/\n",
        "  - N: https://www.reddit.com/r/Suomi/\n",
        "\n",
        "- Brazil:\n",
        "  - E: https://www.reddit.com/r/Brazil/\n",
        "  - N: https://www.reddit.com/r/brasil/\n",
        "\n",
        "- Turkey:\n",
        "  - E: https://www.reddit.com/r/Turkey/\n",
        "  - N: https://www.reddit.com/r/Turkiye/"
      ],
      "metadata": {
        "id": "62IIcmhs2jWd"
      }
    },
    {
      "cell_type": "markdown",
      "source": [
        "## Channel Lists (New):"
      ],
      "metadata": {
        "id": "mWL00b3qMes3"
      }
    },
    {
      "cell_type": "code",
      "source": [
        "# Tester list to run faster\n",
        "test_srs = ['Finland', 'Suomi', \n",
        "       'Brazil', 'brasil'\n",
        "       ]\n",
        "\n",
        "# Tester list for translation analysis\n",
        "trans_srs = [#'poland', 'Polska',   # The Poland sr does not work properly\n",
        "       'Finland', 'Suomi', \n",
        "       'Brazil', 'brasil',\n",
        "       #'Turkey', 'Turkiye',\n",
        "       'China', 'China_irl',  # Uncertain if this counts\n",
        "       #'japan', 'ja',\n",
        "       #'Thailand', 'thaithai',\n",
        "       #'spain', 'es',  # The 'spain' one is flooded w spanish as well...\n",
        "       #'southafrica', 'RSA',\n",
        "       ]\n",
        "\n",
        "# Current working list\n",
        "# English, Native format!!\n",
        "srs = ['poland', 'Polska',   # The Poland sr does not work properly\n",
        "       'Finland', 'Suomi',  # Scraped already\n",
        "       'Brazil', 'brasil',\n",
        "       'Turkey', 'Turkiye',\n",
        "       'China', 'China_irl',  # Uncertain if this counts\n",
        "       'japan', 'ja',\n",
        "       'Thailand', 'thaithai',\n",
        "       'spain', 'es',  # The 'spain' one is flooded w spanish as well...\n",
        "       'southafrica', 'RSA',\n",
        "       'Norway', 'norge',\n",
        "       ]"
      ],
      "metadata": {
        "id": "ImvYf0MSCW4B"
      },
      "execution_count": null,
      "outputs": []
    },
    {
      "cell_type": "markdown",
      "source": [
        "Always run the list cell after adding new subreddits to make sure that the list is up-to-date"
      ],
      "metadata": {
        "id": "GWZcpX4fMsiH"
      }
    },
    {
      "cell_type": "markdown",
      "source": [
        "# Issues / Limitations"
      ],
      "metadata": {
        "id": "KPVf9O__yFSK"
      }
    },
    {
      "cell_type": "markdown",
      "source": [
        "## To-be-resolved list\n",
        "\n",
        "1. [Maybe manually build model & train data?] Some native language forums have bits and pieces of English mixed in, or just reddit codes and stuff in English.\n",
        "2. How many hot posts should I extract per forum?\n",
        "3. Naïve Bayes only telling the positive / negative or do topic modelling instead?\n",
        "4. [RESOLVED: lemmatization] Not-so-accurate results for highly-infleceted langs?\n",
        "5. Lacks a good package to remove stopwords from Finnish texts."
      ],
      "metadata": {
        "id": "layPPId-yL-q"
      }
    },
    {
      "cell_type": "markdown",
      "source": [
        "## Unresolved limitations\n",
        "\n",
        "1. Size of subreddits vary a lot\n",
        "2. Naturally the topic focus would be subtly different in different subreddits, which ones are comparable?"
      ],
      "metadata": {
        "id": "kyjzv9jWyUY3"
      }
    },
    {
      "cell_type": "markdown",
      "source": [
        "# Future directions"
      ],
      "metadata": {
        "id": "BqyIvmtAuIqt"
      }
    },
    {
      "cell_type": "markdown",
      "source": [
        "- Do a heat map on how each country describes other countries (translate the corpora, do antconc)\n",
        "- More sociopolitical analysis on the data\n",
        "- Time series analysis: is the data today different from a month ago"
      ],
      "metadata": {
        "id": "VBh0EpjwuKhc"
      }
    },
    {
      "cell_type": "markdown",
      "source": [
        "# Codes"
      ],
      "metadata": {
        "id": "FtyDqvwsyjB_"
      }
    },
    {
      "cell_type": "markdown",
      "source": [
        "## Installations / Mounting / Importing"
      ],
      "metadata": {
        "id": "xdUWuwNY41vg"
      }
    },
    {
      "cell_type": "markdown",
      "source": [
        "### Installations"
      ],
      "metadata": {
        "id": "sKicHvp15EPy"
      }
    },
    {
      "cell_type": "code",
      "execution_count": 1,
      "metadata": {
        "colab": {
          "base_uri": "https://localhost:8080/"
        },
        "id": "WiUo8q5Iupna",
        "outputId": "dc57a96f-9092-4ffa-f572-7acfa8cc5d4a"
      },
      "outputs": [
        {
          "output_type": "stream",
          "name": "stdout",
          "text": [
            "Collecting praw\n",
            "  Downloading praw-7.5.0-py3-none-any.whl (176 kB)\n",
            "\u001b[?25l\r\u001b[K     |█▉                              | 10 kB 18.9 MB/s eta 0:00:01\r\u001b[K     |███▊                            | 20 kB 14.8 MB/s eta 0:00:01\r\u001b[K     |█████▋                          | 30 kB 10.7 MB/s eta 0:00:01\r\u001b[K     |███████▍                        | 40 kB 9.6 MB/s eta 0:00:01\r\u001b[K     |█████████▎                      | 51 kB 7.6 MB/s eta 0:00:01\r\u001b[K     |███████████▏                    | 61 kB 8.8 MB/s eta 0:00:01\r\u001b[K     |█████████████                   | 71 kB 9.8 MB/s eta 0:00:01\r\u001b[K     |██████████████▉                 | 81 kB 9.7 MB/s eta 0:00:01\r\u001b[K     |████████████████▊               | 92 kB 10.6 MB/s eta 0:00:01\r\u001b[K     |██████████████████▋             | 102 kB 9.3 MB/s eta 0:00:01\r\u001b[K     |████████████████████▍           | 112 kB 9.3 MB/s eta 0:00:01\r\u001b[K     |██████████████████████▎         | 122 kB 9.3 MB/s eta 0:00:01\r\u001b[K     |████████████████████████▏       | 133 kB 9.3 MB/s eta 0:00:01\r\u001b[K     |██████████████████████████      | 143 kB 9.3 MB/s eta 0:00:01\r\u001b[K     |███████████████████████████▉    | 153 kB 9.3 MB/s eta 0:00:01\r\u001b[K     |█████████████████████████████▊  | 163 kB 9.3 MB/s eta 0:00:01\r\u001b[K     |███████████████████████████████▌| 174 kB 9.3 MB/s eta 0:00:01\r\u001b[K     |████████████████████████████████| 176 kB 9.3 MB/s \n",
            "\u001b[?25hCollecting update-checker>=0.18\n",
            "  Downloading update_checker-0.18.0-py3-none-any.whl (7.0 kB)\n",
            "Collecting websocket-client>=0.54.0\n",
            "  Downloading websocket_client-1.3.2-py3-none-any.whl (54 kB)\n",
            "\u001b[K     |████████████████████████████████| 54 kB 2.1 MB/s \n",
            "\u001b[?25hCollecting prawcore<3,>=2.1\n",
            "  Downloading prawcore-2.3.0-py3-none-any.whl (16 kB)\n",
            "Requirement already satisfied: requests<3.0,>=2.6.0 in /usr/local/lib/python3.7/dist-packages (from prawcore<3,>=2.1->praw) (2.23.0)\n",
            "Requirement already satisfied: idna<3,>=2.5 in /usr/local/lib/python3.7/dist-packages (from requests<3.0,>=2.6.0->prawcore<3,>=2.1->praw) (2.10)\n",
            "Requirement already satisfied: urllib3!=1.25.0,!=1.25.1,<1.26,>=1.21.1 in /usr/local/lib/python3.7/dist-packages (from requests<3.0,>=2.6.0->prawcore<3,>=2.1->praw) (1.24.3)\n",
            "Requirement already satisfied: certifi>=2017.4.17 in /usr/local/lib/python3.7/dist-packages (from requests<3.0,>=2.6.0->prawcore<3,>=2.1->praw) (2021.10.8)\n",
            "Requirement already satisfied: chardet<4,>=3.0.2 in /usr/local/lib/python3.7/dist-packages (from requests<3.0,>=2.6.0->prawcore<3,>=2.1->praw) (3.0.4)\n",
            "Installing collected packages: websocket-client, update-checker, prawcore, praw\n",
            "Successfully installed praw-7.5.0 prawcore-2.3.0 update-checker-0.18.0 websocket-client-1.3.2\n",
            "Collecting googletrans==3.1.0a0\n",
            "  Downloading googletrans-3.1.0a0.tar.gz (19 kB)\n",
            "Collecting httpx==0.13.3\n",
            "  Downloading httpx-0.13.3-py3-none-any.whl (55 kB)\n",
            "\u001b[K     |████████████████████████████████| 55 kB 1.6 MB/s \n",
            "\u001b[?25hRequirement already satisfied: certifi in /usr/local/lib/python3.7/dist-packages (from httpx==0.13.3->googletrans==3.1.0a0) (2021.10.8)\n",
            "Collecting rfc3986<2,>=1.3\n",
            "  Downloading rfc3986-1.5.0-py2.py3-none-any.whl (31 kB)\n",
            "Requirement already satisfied: idna==2.* in /usr/local/lib/python3.7/dist-packages (from httpx==0.13.3->googletrans==3.1.0a0) (2.10)\n",
            "Collecting httpcore==0.9.*\n",
            "  Downloading httpcore-0.9.1-py3-none-any.whl (42 kB)\n",
            "\u001b[K     |████████████████████████████████| 42 kB 598 kB/s \n",
            "\u001b[?25hRequirement already satisfied: chardet==3.* in /usr/local/lib/python3.7/dist-packages (from httpx==0.13.3->googletrans==3.1.0a0) (3.0.4)\n",
            "Collecting sniffio\n",
            "  Downloading sniffio-1.2.0-py3-none-any.whl (10 kB)\n",
            "Collecting hstspreload\n",
            "  Downloading hstspreload-2021.12.1-py3-none-any.whl (1.3 MB)\n",
            "\u001b[K     |████████████████████████████████| 1.3 MB 11.7 MB/s \n",
            "\u001b[?25hCollecting h2==3.*\n",
            "  Downloading h2-3.2.0-py2.py3-none-any.whl (65 kB)\n",
            "\u001b[K     |████████████████████████████████| 65 kB 2.3 MB/s \n",
            "\u001b[?25hCollecting h11<0.10,>=0.8\n",
            "  Downloading h11-0.9.0-py2.py3-none-any.whl (53 kB)\n",
            "\u001b[K     |████████████████████████████████| 53 kB 942 kB/s \n",
            "\u001b[?25hCollecting hyperframe<6,>=5.2.0\n",
            "  Downloading hyperframe-5.2.0-py2.py3-none-any.whl (12 kB)\n",
            "Collecting hpack<4,>=3.0\n",
            "  Downloading hpack-3.0.0-py2.py3-none-any.whl (38 kB)\n",
            "Building wheels for collected packages: googletrans\n",
            "  Building wheel for googletrans (setup.py) ... \u001b[?25l\u001b[?25hdone\n",
            "  Created wheel for googletrans: filename=googletrans-3.1.0a0-py3-none-any.whl size=16367 sha256=6a348805926660aafca51a785f68e1e6ccf0333448e98404e042fbb62670d962\n",
            "  Stored in directory: /root/.cache/pip/wheels/0c/be/fe/93a6a40ffe386e16089e44dad9018ebab9dc4cb9eb7eab65ae\n",
            "Successfully built googletrans\n",
            "Installing collected packages: hyperframe, hpack, sniffio, h2, h11, rfc3986, httpcore, hstspreload, httpx, googletrans\n",
            "Successfully installed googletrans-3.1.0a0 h11-0.9.0 h2-3.2.0 hpack-3.0.0 hstspreload-2021.12.1 httpcore-0.9.1 httpx-0.13.3 hyperframe-5.2.0 rfc3986-1.5.0 sniffio-1.2.0\n"
          ]
        }
      ],
      "source": [
        "!pip install praw\n",
        "!pip install googletrans==3.1.0a0\n",
        "#!pip install google_trans_new"
      ]
    },
    {
      "cell_type": "markdown",
      "source": [
        "### Importing"
      ],
      "metadata": {
        "id": "Z_N54e_g5HBP"
      }
    },
    {
      "cell_type": "code",
      "source": [
        "import praw\n",
        "\n",
        "reddit = praw.Reddit(client_id=\"R7keGb8iIXeFuLo-CZOs7g\",\n",
        "                     client_secret=\"ieKEfzD3VvRdmg-HGR0yUt3A6jD_Lw\",\n",
        "                     user_agent=\"scrapata\",\n",
        "                     username='hxhthewebscraper',\n",
        "                     password='Puhun_suomea4')\n",
        "\n",
        "print(reddit.user.me())"
      ],
      "metadata": {
        "colab": {
          "base_uri": "https://localhost:8080/"
        },
        "id": "PpfhZPFQ5J7S",
        "outputId": "e9750559-527b-4c5c-944c-0249cb06f33d"
      },
      "execution_count": 2,
      "outputs": [
        {
          "output_type": "stream",
          "name": "stderr",
          "text": [
            "It appears that you are using PRAW in an asynchronous environment.\n",
            "It is strongly recommended to use Async PRAW: https://asyncpraw.readthedocs.io.\n",
            "See https://praw.readthedocs.io/en/latest/getting_started/multiple_instances.html#discord-bots-and-asynchronous-environments for more info.\n",
            "\n"
          ]
        },
        {
          "output_type": "stream",
          "name": "stdout",
          "text": [
            "hxhthewebscraper\n"
          ]
        }
      ]
    },
    {
      "cell_type": "code",
      "source": [
        "import regex as re\n",
        "import numpy as np\n",
        "import pandas as pd\n",
        "from googletrans import Translator\n",
        "#from google_trans_new import google_translator \n",
        "from textblob import TextBlob\n",
        "import seaborn as sns\n",
        "import matplotlib.pyplot as plt\n",
        "import csv"
      ],
      "metadata": {
        "id": "SKnFVzyUHkC1"
      },
      "execution_count": 3,
      "outputs": []
    },
    {
      "cell_type": "code",
      "source": [
        "import nltk\n",
        "nltk.download('punkt')"
      ],
      "metadata": {
        "colab": {
          "base_uri": "https://localhost:8080/"
        },
        "id": "AGtCPxCO3tLy",
        "outputId": "e8dd301a-ca21-46fe-bcdf-12eb36c21de4"
      },
      "execution_count": 4,
      "outputs": [
        {
          "output_type": "stream",
          "name": "stdout",
          "text": [
            "[nltk_data] Downloading package punkt to /root/nltk_data...\n",
            "[nltk_data]   Unzipping tokenizers/punkt.zip.\n"
          ]
        },
        {
          "output_type": "execute_result",
          "data": {
            "text/plain": [
              "True"
            ]
          },
          "metadata": {},
          "execution_count": 4
        }
      ]
    },
    {
      "cell_type": "markdown",
      "source": [
        "### Mounting"
      ],
      "metadata": {
        "id": "NPT--q3OHbZr"
      }
    },
    {
      "cell_type": "code",
      "source": [
        "from google.colab import drive\n",
        "drive.mount('/content/drive')"
      ],
      "metadata": {
        "colab": {
          "base_uri": "https://localhost:8080/"
        },
        "id": "Iopko5FHHdy8",
        "outputId": "1d58e412-0f3b-4adf-9ae3-46251566ab5e"
      },
      "execution_count": null,
      "outputs": [
        {
          "output_type": "stream",
          "name": "stdout",
          "text": [
            "Mounted at /content/drive\n"
          ]
        }
      ]
    },
    {
      "cell_type": "markdown",
      "source": [
        "## Scraping"
      ],
      "metadata": {
        "id": "aGgGlanM5Rli"
      }
    },
    {
      "cell_type": "code",
      "source": [
        "def subr_to_list(subreddit, number):\n",
        "  \"\"\"\n",
        "  Takes a subreddit name and scraps posts into a list.\n",
        "  Returns the list.\n",
        "  \"\"\"\n",
        "  subr_list = list() #key is body, value is judgement\n",
        "\n",
        "  # get 10 hot posts from the r/Suomi subreddit\n",
        "  hot_posts = reddit.subreddit(subreddit).hot(limit=number) #this is pulling out the hot posts\n",
        "  for post in hot_posts:  \n",
        "      submission = reddit.submission(id=post.id)\n",
        "      subr_list.append(submission.selftext)\n",
        "      #linked_post = reddit.submission(url='https://www.reddit/com/'+post.url)\n",
        "      #for top_level_comment in submission.comments:\n",
        "        #print(top_level_comment.body)\n",
        "        #subr_dict[submission.selftext] = top_level_comment.body\n",
        "\n",
        "  return subr_list"
      ],
      "metadata": {
        "id": "r3n47ufx5QNz"
      },
      "execution_count": null,
      "outputs": []
    },
    {
      "cell_type": "code",
      "source": [
        "def list_to_txt(postlist, filename, ordinal='1'):\n",
        "  \"\"\"\n",
        "  Takes a list of processed subreddit posts and output a .txt file.\n",
        "  The ordinal in the end is added to sort the files properly.\n",
        "  \"\"\"\n",
        "  outfile = open('/content/drive/My Drive/LGCS124/FinalProject/TestCorpora/' + str(int(ordinal)) + '_' + filename + '.txt', 'w')\n",
        "\n",
        "  for post in postlist:\n",
        "    outfile.write(post)\n",
        "    outfile.write('\\n')\n",
        "\n",
        "  outfile.close()"
      ],
      "metadata": {
        "id": "TtTzIo3i8_I6"
      },
      "execution_count": null,
      "outputs": []
    },
    {
      "cell_type": "code",
      "source": [
        "# Tester: [DON'T RERUN THIS IT TAKES AGES!!!]\n",
        "\n",
        "#finland_e = subr_to_list('Suomi', 100)"
      ],
      "metadata": {
        "id": "LWwphQBu6kKN"
      },
      "execution_count": null,
      "outputs": []
    },
    {
      "cell_type": "code",
      "source": [
        "#list_to_txt(finland_e, 'finland_e')"
      ],
      "metadata": {
        "id": "pWXKAQwx-wI_"
      },
      "execution_count": null,
      "outputs": []
    },
    {
      "cell_type": "markdown",
      "source": [
        "### The ultimate scraper!"
      ],
      "metadata": {
        "id": "dSzYQ9ebBuhC"
      }
    },
    {
      "cell_type": "code",
      "source": [
        "def subr_extract(subreddit, number, ordinal='1'):\n",
        "  \"\"\"\n",
        "  The ultimate extraction. Takes a string that is the name of the subreddit\n",
        "  and the number of posts to be scraped.\n",
        "  The ordinal in the end is added to sort the files properly.\n",
        "  \"\"\"\n",
        "  postlist = subr_to_list(subreddit, number)\n",
        "  list_to_txt(postlist, subreddit, ordinal)"
      ],
      "metadata": {
        "id": "syU0rKkC_vbm"
      },
      "execution_count": null,
      "outputs": []
    },
    {
      "cell_type": "code",
      "source": [
        "# Tester\n",
        "subr_extract('Polska', 10)"
      ],
      "metadata": {
        "id": "O1i0cPXMBSaa"
      },
      "execution_count": null,
      "outputs": []
    },
    {
      "cell_type": "code",
      "source": [
        "# Tester\n",
        "ord = 1\n",
        "for sr in test_srs:\n",
        "  subr_extract(sr, 10, ord)\n",
        "  ord += 0.5"
      ],
      "metadata": {
        "id": "-Rl5dWY-C1Vu"
      },
      "execution_count": null,
      "outputs": []
    },
    {
      "cell_type": "markdown",
      "source": [
        "### Function written to scrape the list [srs](https://colab.research.google.com/drive/1Fh5wP9f8Qt47cjE8xgT86ub9eWUZo-iR#scrollTo=ImvYf0MSCW4B&line=3&uniqifier=1)"
      ],
      "metadata": {
        "id": "eRl5cvzIGPjQ"
      }
    },
    {
      "cell_type": "code",
      "source": [
        "def scrap_srs(currentsrs, number):\n",
        "  ord = 1\n",
        "  for sr in currentsrs:\n",
        "    subr_extract(sr, number, ord)\n",
        "    ord += 0.5"
      ],
      "metadata": {
        "id": "-8i-wlBBGrwF"
      },
      "execution_count": null,
      "outputs": []
    },
    {
      "cell_type": "markdown",
      "source": [
        "### Call this to get all files from current srs into the drive\n"
      ],
      "metadata": {
        "id": "8w09pkOeIa5J"
      }
    },
    {
      "cell_type": "code",
      "source": [
        "# DON'T RUN UNLESS YOU WANT TO GET THE FILE NOW!\n",
        "#scrap_srs(srs, 50)"
      ],
      "metadata": {
        "id": "2G1vILroIiY9"
      },
      "execution_count": null,
      "outputs": []
    },
    {
      "cell_type": "markdown",
      "source": [
        "## Translation testing\n",
        "This is to check if the sentiment would be lost after translation of the non-English corpora into English. Two translators would be used:\n",
        "- DeepL\n",
        "- Google Translate\n",
        "\n",
        "To test translation, three pairs of corpora are used:\n",
        "1. Finland (Finnish, English)\n",
        "2. Brazil (Brazilian Portuguese, English)\n",
        "3. China (Simplified Chinese, English)\n",
        "\n",
        "Of which Finnish has the highest morphological complexity being an agglutinative language, Brazilian Portuguese the medium and Chinese the lowest. "
      ],
      "metadata": {
        "id": "kTH6wtSVkimp"
      }
    },
    {
      "cell_type": "code",
      "source": [
        "# Run this code cell to get translation tester corpora\n",
        "scrap_srs(trans_srs, 30)"
      ],
      "metadata": {
        "id": "OX-MD1Imk6qP"
      },
      "execution_count": null,
      "outputs": []
    },
    {
      "cell_type": "markdown",
      "source": [
        "For the Finnish sentiment analysis, the testing corpus used is from the Korp API: https://korp.csc.fi/. I referenced https://github.com/tjkemp/ubik-sentiment for the code used to strip data from the corpus. It is combined with another labeled corpus from Turku University."
      ],
      "metadata": {
        "id": "LOikpMifxibk"
      }
    },
    {
      "cell_type": "markdown",
      "source": [
        "### Corpus input"
      ],
      "metadata": {
        "id": "4S3E3vfPPdVX"
      }
    },
    {
      "cell_type": "markdown",
      "source": [
        "#### Turku corpus"
      ],
      "metadata": {
        "id": "HwCvKmjoVF3w"
      }
    },
    {
      "cell_type": "code",
      "source": [
        "df = pd.read_csv('/content/drive/MyDrive/LGCS124/FinalProject/TranslationTrainingData/FinnSentiment2020.tsv', sep='\\t', header=0)\n",
        "\n",
        "df.head()"
      ],
      "metadata": {
        "colab": {
          "base_uri": "https://localhost:8080/",
          "height": 206
        },
        "id": "IMoBrIjjPcrt",
        "outputId": "97604d2f-5969-41ed-cb8c-24384990d096"
      },
      "execution_count": null,
      "outputs": [
        {
          "output_type": "execute_result",
          "data": {
            "text/plain": [
              "   a  b  c  major  derive  smiley  produ  split  batch  \\\n",
              "0  1  0  1      1       4       0     -1      1      1   \n",
              "1  0  1  0      0       4       0     -1     12      1   \n",
              "2  0  0  0      0       3       0     -1     14      1   \n",
              "3  1  1  1      1       5       0      1      7      1   \n",
              "4  1  1  1      1       5       0      1     12      1   \n",
              "\n",
              "           index in original  \\\n",
              "0  comments2008c.vrt 2145269   \n",
              "1  comments2011c.vrt 3247745   \n",
              "2  comments2007c.vrt 3792960   \n",
              "3  comments2010d.vrt 2351708   \n",
              "4  comments2007d.vrt 1701675   \n",
              "\n",
              "                                                text  \n",
              "0                        - Tervetuloa skotlantiin...  \n",
              "1  ...... No, oikein sopiva sattumaha se vaan oli...  \n",
              "2                                                40.  \n",
              "3             Kyseessä voi olla loppuelämäsi nainen.  \n",
              "4                 Sinne vaan ocean clubiin iskemään!  "
            ],
            "text/html": [
              "\n",
              "  <div id=\"df-3b185f41-92b4-41d6-b544-1fbcb17b0e2f\">\n",
              "    <div class=\"colab-df-container\">\n",
              "      <div>\n",
              "<style scoped>\n",
              "    .dataframe tbody tr th:only-of-type {\n",
              "        vertical-align: middle;\n",
              "    }\n",
              "\n",
              "    .dataframe tbody tr th {\n",
              "        vertical-align: top;\n",
              "    }\n",
              "\n",
              "    .dataframe thead th {\n",
              "        text-align: right;\n",
              "    }\n",
              "</style>\n",
              "<table border=\"1\" class=\"dataframe\">\n",
              "  <thead>\n",
              "    <tr style=\"text-align: right;\">\n",
              "      <th></th>\n",
              "      <th>a</th>\n",
              "      <th>b</th>\n",
              "      <th>c</th>\n",
              "      <th>major</th>\n",
              "      <th>derive</th>\n",
              "      <th>smiley</th>\n",
              "      <th>produ</th>\n",
              "      <th>split</th>\n",
              "      <th>batch</th>\n",
              "      <th>index in original</th>\n",
              "      <th>text</th>\n",
              "    </tr>\n",
              "  </thead>\n",
              "  <tbody>\n",
              "    <tr>\n",
              "      <th>0</th>\n",
              "      <td>1</td>\n",
              "      <td>0</td>\n",
              "      <td>1</td>\n",
              "      <td>1</td>\n",
              "      <td>4</td>\n",
              "      <td>0</td>\n",
              "      <td>-1</td>\n",
              "      <td>1</td>\n",
              "      <td>1</td>\n",
              "      <td>comments2008c.vrt 2145269</td>\n",
              "      <td>- Tervetuloa skotlantiin...</td>\n",
              "    </tr>\n",
              "    <tr>\n",
              "      <th>1</th>\n",
              "      <td>0</td>\n",
              "      <td>1</td>\n",
              "      <td>0</td>\n",
              "      <td>0</td>\n",
              "      <td>4</td>\n",
              "      <td>0</td>\n",
              "      <td>-1</td>\n",
              "      <td>12</td>\n",
              "      <td>1</td>\n",
              "      <td>comments2011c.vrt 3247745</td>\n",
              "      <td>...... No, oikein sopiva sattumaha se vaan oli...</td>\n",
              "    </tr>\n",
              "    <tr>\n",
              "      <th>2</th>\n",
              "      <td>0</td>\n",
              "      <td>0</td>\n",
              "      <td>0</td>\n",
              "      <td>0</td>\n",
              "      <td>3</td>\n",
              "      <td>0</td>\n",
              "      <td>-1</td>\n",
              "      <td>14</td>\n",
              "      <td>1</td>\n",
              "      <td>comments2007c.vrt 3792960</td>\n",
              "      <td>40.</td>\n",
              "    </tr>\n",
              "    <tr>\n",
              "      <th>3</th>\n",
              "      <td>1</td>\n",
              "      <td>1</td>\n",
              "      <td>1</td>\n",
              "      <td>1</td>\n",
              "      <td>5</td>\n",
              "      <td>0</td>\n",
              "      <td>1</td>\n",
              "      <td>7</td>\n",
              "      <td>1</td>\n",
              "      <td>comments2010d.vrt 2351708</td>\n",
              "      <td>Kyseessä voi olla loppuelämäsi nainen.</td>\n",
              "    </tr>\n",
              "    <tr>\n",
              "      <th>4</th>\n",
              "      <td>1</td>\n",
              "      <td>1</td>\n",
              "      <td>1</td>\n",
              "      <td>1</td>\n",
              "      <td>5</td>\n",
              "      <td>0</td>\n",
              "      <td>1</td>\n",
              "      <td>12</td>\n",
              "      <td>1</td>\n",
              "      <td>comments2007d.vrt 1701675</td>\n",
              "      <td>Sinne vaan ocean clubiin iskemään!</td>\n",
              "    </tr>\n",
              "  </tbody>\n",
              "</table>\n",
              "</div>\n",
              "      <button class=\"colab-df-convert\" onclick=\"convertToInteractive('df-3b185f41-92b4-41d6-b544-1fbcb17b0e2f')\"\n",
              "              title=\"Convert this dataframe to an interactive table.\"\n",
              "              style=\"display:none;\">\n",
              "        \n",
              "  <svg xmlns=\"http://www.w3.org/2000/svg\" height=\"24px\"viewBox=\"0 0 24 24\"\n",
              "       width=\"24px\">\n",
              "    <path d=\"M0 0h24v24H0V0z\" fill=\"none\"/>\n",
              "    <path d=\"M18.56 5.44l.94 2.06.94-2.06 2.06-.94-2.06-.94-.94-2.06-.94 2.06-2.06.94zm-11 1L8.5 8.5l.94-2.06 2.06-.94-2.06-.94L8.5 2.5l-.94 2.06-2.06.94zm10 10l.94 2.06.94-2.06 2.06-.94-2.06-.94-.94-2.06-.94 2.06-2.06.94z\"/><path d=\"M17.41 7.96l-1.37-1.37c-.4-.4-.92-.59-1.43-.59-.52 0-1.04.2-1.43.59L10.3 9.45l-7.72 7.72c-.78.78-.78 2.05 0 2.83L4 21.41c.39.39.9.59 1.41.59.51 0 1.02-.2 1.41-.59l7.78-7.78 2.81-2.81c.8-.78.8-2.07 0-2.86zM5.41 20L4 18.59l7.72-7.72 1.47 1.35L5.41 20z\"/>\n",
              "  </svg>\n",
              "      </button>\n",
              "      \n",
              "  <style>\n",
              "    .colab-df-container {\n",
              "      display:flex;\n",
              "      flex-wrap:wrap;\n",
              "      gap: 12px;\n",
              "    }\n",
              "\n",
              "    .colab-df-convert {\n",
              "      background-color: #E8F0FE;\n",
              "      border: none;\n",
              "      border-radius: 50%;\n",
              "      cursor: pointer;\n",
              "      display: none;\n",
              "      fill: #1967D2;\n",
              "      height: 32px;\n",
              "      padding: 0 0 0 0;\n",
              "      width: 32px;\n",
              "    }\n",
              "\n",
              "    .colab-df-convert:hover {\n",
              "      background-color: #E2EBFA;\n",
              "      box-shadow: 0px 1px 2px rgba(60, 64, 67, 0.3), 0px 1px 3px 1px rgba(60, 64, 67, 0.15);\n",
              "      fill: #174EA6;\n",
              "    }\n",
              "\n",
              "    [theme=dark] .colab-df-convert {\n",
              "      background-color: #3B4455;\n",
              "      fill: #D2E3FC;\n",
              "    }\n",
              "\n",
              "    [theme=dark] .colab-df-convert:hover {\n",
              "      background-color: #434B5C;\n",
              "      box-shadow: 0px 1px 3px 1px rgba(0, 0, 0, 0.15);\n",
              "      filter: drop-shadow(0px 1px 2px rgba(0, 0, 0, 0.3));\n",
              "      fill: #FFFFFF;\n",
              "    }\n",
              "  </style>\n",
              "\n",
              "      <script>\n",
              "        const buttonEl =\n",
              "          document.querySelector('#df-3b185f41-92b4-41d6-b544-1fbcb17b0e2f button.colab-df-convert');\n",
              "        buttonEl.style.display =\n",
              "          google.colab.kernel.accessAllowed ? 'block' : 'none';\n",
              "\n",
              "        async function convertToInteractive(key) {\n",
              "          const element = document.querySelector('#df-3b185f41-92b4-41d6-b544-1fbcb17b0e2f');\n",
              "          const dataTable =\n",
              "            await google.colab.kernel.invokeFunction('convertToInteractive',\n",
              "                                                     [key], {});\n",
              "          if (!dataTable) return;\n",
              "\n",
              "          const docLinkHtml = 'Like what you see? Visit the ' +\n",
              "            '<a target=\"_blank\" href=https://colab.research.google.com/notebooks/data_table.ipynb>data table notebook</a>'\n",
              "            + ' to learn more about interactive tables.';\n",
              "          element.innerHTML = '';\n",
              "          dataTable['output_type'] = 'display_data';\n",
              "          await google.colab.output.renderOutput(dataTable, element);\n",
              "          const docLink = document.createElement('div');\n",
              "          docLink.innerHTML = docLinkHtml;\n",
              "          element.appendChild(docLink);\n",
              "        }\n",
              "      </script>\n",
              "    </div>\n",
              "  </div>\n",
              "  "
            ]
          },
          "metadata": {},
          "execution_count": 6
        }
      ]
    },
    {
      "cell_type": "code",
      "source": [
        "pos_df = df[df['derive'] > 3]\n",
        "pos_list = list(pos_df['text'])\n",
        "\n",
        "neg_df = df[df['derive'] < 3]\n",
        "neg_list = list(neg_df['text'])\n",
        "\n",
        "neu_df = df[df['derive'] == 3]\n",
        "neu_list = list(neu_df['text'])"
      ],
      "metadata": {
        "id": "X4xY6VobTiFR"
      },
      "execution_count": null,
      "outputs": []
    },
    {
      "cell_type": "code",
      "source": [
        "pos_list[:10]"
      ],
      "metadata": {
        "colab": {
          "base_uri": "https://localhost:8080/"
        },
        "id": "0h4Ez_w0VqPF",
        "outputId": "00fe9cd8-4110-40c1-ed2c-29b301dbbb43"
      },
      "execution_count": null,
      "outputs": [
        {
          "output_type": "execute_result",
          "data": {
            "text/plain": [
              "['- Tervetuloa skotlantiin...',\n",
              " '...... No, oikein sopiva sattumaha se vaan oli, vai mitä?',\n",
              " 'Kyseessä voi olla loppuelämäsi nainen.',\n",
              " 'Sinne vaan ocean clubiin iskemään!',\n",
              " 'Itsekin pidän Keskustan kampanjointia ihan hyvänä.',\n",
              " 'Muutenkin suosittelen kaikille asiasta kiinnostuneille tuota Mark \"Gravy\" Robertsin mainiota paperia.',\n",
              " 'Ja kun vielä nuukan puoleinenkin on, mikäs sen lepposampaa elää hänen vierellään',\n",
              " 'Tottakai myös ylpeä \"tulevasta\" vaimostani.',\n",
              " 'Suuret kiitokset tämän mahtavan tapahtuman järjestäjille!',\n",
              " 'Kuka \"korkkaisi\" minut?']"
            ]
          },
          "metadata": {},
          "execution_count": 8
        }
      ]
    },
    {
      "cell_type": "code",
      "source": [
        "neg_list[:10]"
      ],
      "metadata": {
        "colab": {
          "base_uri": "https://localhost:8080/"
        },
        "id": "6eZH_vQ0Vxyx",
        "outputId": "999d4138-b3d0-4e7b-f9b9-19eb6101118e"
      },
      "execution_count": null,
      "outputs": [
        {
          "output_type": "execute_result",
          "data": {
            "text/plain": [
              "['huomista päivää odotellen..',\n",
              " 'en haluaisi että kissani vuotaa.. =)',\n",
              " 'Nyt olisi lääkitys paikallaan.',\n",
              " 'Eniten pelkään sitä, että jos mies vain koko ajan siirtää perheenperustamista vuosilla eteenpäin, kunnes emme enää saakkaan lapsia..tiedä häntä.',\n",
              " 'Teillähän asenne on kohdallaan!',\n",
              " 'Tuntuu kuin olisin pelkkä huora.',\n",
              " 'en kertonut, koska oisit vaan suuttunut.',\n",
              " 'Missä kohtaa olen sinua nimitellyt?',\n",
              " 'Onko joku tehnyt tälläisen tempun?',\n",
              " 'Sateenkaariväki kuvittelee, että kaksi \"isää\" ei voi korvata äitiä, eikä kaksi \"äitiä\" voi korvata isää.']"
            ]
          },
          "metadata": {},
          "execution_count": 9
        }
      ]
    },
    {
      "cell_type": "code",
      "source": [
        "neu_list[:10]"
      ],
      "metadata": {
        "colab": {
          "base_uri": "https://localhost:8080/"
        },
        "id": "av40y47nq_MZ",
        "outputId": "f1f7f180-bbf8-4c3c-e7d8-ab859ccd4a03"
      },
      "execution_count": null,
      "outputs": [
        {
          "output_type": "execute_result",
          "data": {
            "text/plain": [
              "['40.',\n",
              " 'Kamppi, Kontula, Kluuvi',\n",
              " 'Ihmiset joutuvat joskus monenlaisien päätelmien kohteeksi.',\n",
              " 'Koska naiset yleensä arvostavat miehessä eniten itsevarmuutta ja ujo mies saattaa helposti antaa itsestään epävarman vaikutelman vaikka ei sitä olisikaan.\\n-1\\t-1\\t-1\\t-1\\t1\\t0\\t1\\t1\\t1\\tcomments2016e.vrt 3255363\\tTyöstä kuuluu maksaa palkkaa vai meinaatko että palkkatyöläiset menisivät 9eurolla hommiin ja maksaisivat sillä laskunsa.Ei hyvää päivää mihin maamme on vajonnut ja hallitus ajaa tälläistä politiikkaa.\\n-1\\t-1\\t0\\t-1\\t2\\t1\\t0\\t3\\t1\\tcomments2010c.vrt 2040506\\tVastahan sinä myönsit, ettei tuolla ominaisuuden hyödyllisyydellä - eikä siten vahingollisuudella - ole mitään tekemistä asian kanssa!',\n",
              " 'Jos taas mielestäsi maailmassa on jokin pielessä ja haluat muutosta, osoita tukesi niin liity mukaan muuttamaan maailmaa.',\n",
              " 'Miten on Turun-lentojen laits?',\n",
              " 'Tämähän ei maksa kaupungille mitään, mutta operaatio säilyttäisi kasarmin.',\n",
              " 'on vapaaehtoista käyttääkö uikkareita vai ei',\n",
              " 'Tuolloin 6-10 suden *lauma* liikuskeli Oriveden lähikunnissa.',\n",
              " 'Tai voit vaikka katella leffoja makuuni.fi sivuilta jos vaikka löytyis joku hyvä leffa minkä vois vuokrata / hankkia.']"
            ]
          },
          "metadata": {},
          "execution_count": 10
        }
      ]
    },
    {
      "cell_type": "code",
      "source": [
        "# Export to file for local lemmatization\n",
        "\n",
        "def list_to_corp_file(listname, filename):\n",
        "  \"\"\"\n",
        "  Takes a list called listname and output a txt file with each item on one line.\n",
        "  The txt file is named filename (string).\n",
        "  \"\"\"\n",
        "  outfile = open('/content/drive/MyDrive/LGCS124/FinalProject/TranslationTrainingData/' + filename + '.txt', 'w')\n",
        "  for l in listname:\n",
        "    outfile.write(l)\n",
        "    outfile.write('\\n')\n",
        "  outfile.close()"
      ],
      "metadata": {
        "id": "7SX9jILd-jgb"
      },
      "execution_count": null,
      "outputs": []
    },
    {
      "cell_type": "code",
      "source": [
        "list_to_corp_file(pos_list, 'pos_list')\n",
        "list_to_corp_file(neg_list, 'neg_list')\n",
        "list_to_corp_file(neu_list, 'neu_list')"
      ],
      "metadata": {
        "id": "peRsN5Tc_9_l"
      },
      "execution_count": null,
      "outputs": []
    },
    {
      "cell_type": "markdown",
      "source": [
        "#### Korpi corpus (Not in use)\n",
        "\n",
        "A corpus analysing sentiment based on the smilely tags. Stopped using since its accuracy of tagging is questionable (rather than manually tagging the message, it simply search for smiley faces...)."
      ],
      "metadata": {
        "id": "2p_z0LNEVIJ5"
      }
    },
    {
      "cell_type": "code",
      "source": [
        "pos_korpi = []\n",
        "neg_korpi = []"
      ],
      "metadata": {
        "id": "HnMQOHbxsuhd"
      },
      "execution_count": null,
      "outputs": []
    },
    {
      "cell_type": "code",
      "source": [
        "infile = open('/content/drive/MyDrive/LGCS124/FinalProject/korp_all_sentences.txt', 'r')\n",
        "all = infile.read()\n",
        "\n",
        "infile.close()"
      ],
      "metadata": {
        "id": "MrV8Wl2wVKMr"
      },
      "execution_count": null,
      "outputs": []
    },
    {
      "cell_type": "code",
      "source": [
        "cleaned = re.sub(r'\\nb', r'\\n', all)  # remove all the b leading each line\n",
        "cleaned = re.sub('\\n\\'\\:\\)\\'', '', cleaned)  # remove the lines with only :)\n",
        "cleaned = re.sub('\\n\\'\\:\\(\\'', '', cleaned)  # remove the lines with only :(\n",
        "cleaned = re.sub('\\'\\n\\'', '\\n', cleaned)  # remove the quotation marks \n",
        "cleaned = cleaned.replace('\\\\xc3\\\\xa4', 'ä')\n",
        "cleaned = cleaned.replace('\\\\xc3\\\\xb6', 'ö')\n",
        "splitted = cleaned.split('\\n')\n",
        "\n",
        "for line in splitted:\n",
        "  if ':)' in line:\n",
        "    pos_korpi.append(line[:-3])  # Exclude the :)\n",
        "  else:\n",
        "    neg_korpi.append(line[:-3])"
      ],
      "metadata": {
        "id": "UcpdhHcLVMxq"
      },
      "execution_count": null,
      "outputs": []
    },
    {
      "cell_type": "code",
      "source": [
        "pos_korpi[:20]"
      ],
      "metadata": {
        "colab": {
          "base_uri": "https://localhost:8080/"
        },
        "id": "SxSylK4v4FHE",
        "outputId": "5a1490ec-6fd4-4ca1-8128-c41bd8c92a52"
      },
      "execution_count": null,
      "outputs": [
        {
          "output_type": "execute_result",
          "data": {
            "text/plain": [
              "['kitystä ei sukupuolella tai iällä ) - Olisin Charlien ja Fredin ja Georgen sekoitus',\n",
              " 'Ja jos jäikin niin mielikuvitus on hoitanut homman',\n",
              " '- Hagrid',\n",
              " 'Ensin ajattelin , että se on varmaan ihan huono , mutta olikin sitten hyvä',\n",
              " 'tai Lily Luna Potter',\n",
              " ') Rowling kirjoittaa hyvin ja tarina on uskomaton',\n",
              " 'ja ron joutuu viettää loppu ikänsä terapeutin vastaan otolla ..',\n",
              " 'jotenki noin se meni',\n",
              " 'njaah Jos Harry kuolee nii se pääse äitinsä , isänsä , Siriuksen ja Dumbledoren luo',\n",
              " 'Jotain olin lainannut kansainvälisten foorumeiden spekulaatioista , mutta ainakin tuo Nevillen vanhempia koskeva osuus oli ihan omani',\n",
              " 'Rowling onnistuu yllättämään aina !',\n",
              " 'Harry ja Voldemortt Nii voihan se tietenkin olla niinkin',\n",
              " 'Enkä usko , että Ginnyäkään hylätään aivan vielä ...',\n",
              " 'Mutta uskon että Nevillellä tulee olemaan suuri rooli viimeisessä kirjassa , kuin myös Lunalla joka loisti poissaolollaan kirjassa 6. Loppuratkaisua en halua edes pohtia , jätän sen Jolle',\n",
              " '10. Dobby on kotitonttu',\n",
              " 'Muuten kiva',\n",
              " 'Ja siirappitorttu kuulostaa niin hyvältä : S Rowling luetteli kirjoissa muitakin herkkuja ja sillon tulee aina nälkä niitä lukiessa',\n",
              " 'Arthur Weasley + Dumbledore + Voldemort Kalkaros Lucius Malfoy Draco Malfoy Vauhkomieli Sirius Musta + Remus Lupin Aika kaikkiruokainen olen',\n",
              " 'Mun on ehottimasti ginny weasley !!!!!!',\n",
              " ':)']"
            ]
          },
          "metadata": {},
          "execution_count": 55
        }
      ]
    },
    {
      "cell_type": "markdown",
      "source": [
        "### Stemming (Not in use)\n",
        "\n",
        "The stemmer is not in use since it does not increase model accuracy and fails to stem same words with different inflections correctly."
      ],
      "metadata": {
        "id": "1VsPUIpw6zq4"
      }
    },
    {
      "cell_type": "code",
      "source": [
        "#Import nltk Snowball stemmer\n",
        "from nltk.stem.snowball import SnowballStemmer\n",
        "\n",
        "#Create a Finnish instance\n",
        "fistemmer = SnowballStemmer(\"finnish\")\n",
        "\n",
        "#Print the stemmed version of some Finnish word\n",
        "print(fistemmer.stem('toimittaa'))"
      ],
      "metadata": {
        "colab": {
          "base_uri": "https://localhost:8080/"
        },
        "id": "Dvyag9KSpw7K",
        "outputId": "15ddcd19-3275-4400-e13d-73209d9c187d"
      },
      "execution_count": null,
      "outputs": [
        {
          "output_type": "stream",
          "name": "stdout",
          "text": [
            "toimit\n"
          ]
        }
      ]
    },
    {
      "cell_type": "markdown",
      "source": [
        "### Self-built Naïve Bayes Training w/ Lemmatization (Not in use, moved to local machine instead)\n",
        "\n",
        "Since the library and dictionary used for lemmatization is too huge, this part is run locally. See my code [here](https://github.com/xh313/Corpus-Linguistics-Works/tree/main/CorpusLingLocalScripts). The lemmatizing database is from `libvoikko`. For info about this library see [here](https://voikko.puimula.org/).\n"
      ],
      "metadata": {
        "id": "jr1itR2XTq9-"
      }
    },
    {
      "cell_type": "code",
      "source": [
        "# Import back the list of lemma\n",
        "\n",
        "pos_lemma_df = pd.read_csv('/content/drive/MyDrive/LGCS124/FinalProject/TranslationTrainingData/pos_lemma.csv')\n",
        "neg_lemma_df = pd.read_csv('/content/drive/MyDrive/LGCS124/FinalProject/TranslationTrainingData/neg_lemma.csv')\n",
        "\n",
        "pos_lemma = list(pos_lemma_df['lemma'])\n",
        "neg_lemma = list(neg_lemma_df['lemma'])"
      ],
      "metadata": {
        "id": "0dYi4Md_Ilwd"
      },
      "execution_count": null,
      "outputs": []
    },
    {
      "cell_type": "code",
      "source": [
        "# Naïve bayes training functions\n",
        "\n",
        "def get_word_counts(word_list):\n",
        "    \"\"\"\n",
        "    Takes as input a lemma list and returns a dictionary with the\n",
        "    number of times each word occurred in that file.\n",
        "    :param list: The file to be counted\n",
        "    :return: A dictionary containing the number of occurrences for each word\n",
        "    \"\"\"\n",
        "\n",
        "    dictionary = {}\n",
        "    #word_list = []\n",
        "\n",
        "    #for l in listname:\n",
        "        #word_list += l.split()\n",
        "\n",
        "    for word in word_list:\n",
        "      word_stemmed = word  # No stemming\n",
        "      #word_stemmed = fistemmer.stem(word)  # stemming\n",
        "      if word_stemmed not in dictionary:\n",
        "          dictionary[word_stemmed] = 1\n",
        "      else:\n",
        "          dictionary[word_stemmed] += 1\n",
        "\n",
        "    return dictionary\n",
        "\n",
        "def counts_to_probs(dictionary, num):\n",
        "    \"\"\"\n",
        "    Takes a dictionary and a number and generates a new dictionary with\n",
        "    the same keys where each value has been divided by the input number.\n",
        "    :param dictionary: The dictionary to be operated on\n",
        "    :param num: The number to be divided\n",
        "    :return: A dictionary in which all values for each key have been divided by num\n",
        "    \"\"\"\n",
        "    for word in dictionary:\n",
        "        dictionary[word] /= num\n",
        "\n",
        "    return dictionary\n",
        "\n",
        "def train_model(listname, word_list):\n",
        "    \"\"\"\n",
        "    Takes as input a listname containing examples and returns a dictionary with the word probabilities.\n",
        "    :param listname: The name of the list to be counted and calculated\n",
        "    :return: A dictionary containing the probability of the occurrences of each word type\n",
        "    \"\"\"\n",
        "    lines = len(listname)\n",
        "    counts = get_word_counts(word_list)\n",
        "    probs = counts_to_probs(counts, lines)\n",
        "    return probs\n",
        "\n",
        "def get_probability(dictionary, string):\n",
        "    \"\"\"\n",
        "    Takes as input two parameters, a dictionary of word probabilities and a\n",
        "    string (representing a review), and returns the probability of that review\n",
        "    by multiplying the probabilities of each of the words in the review.\n",
        "    :param dictionary: The dictionary containing the probability data\n",
        "    :param string: The string to be evaluated on\n",
        "    :return: The product of teh probability of each of the words in the string\n",
        "    \"\"\"\n",
        "    string = string.lower()\n",
        "    word_list = string.split()  # Create a list of words from the input str\n",
        "    probs = 1  # Initialise\n",
        "\n",
        "    for word in word_list:\n",
        "        if word in dictionary:\n",
        "            probs *= dictionary[word]\n",
        "        else:\n",
        "            probs *= 1 / 11000\n",
        "\n",
        "    return probs\n",
        "\n",
        "\n",
        "def classify(string, pos_dict, neg_dict):\n",
        "    \"\"\"\n",
        "    Takes a string (a review), a positive and a negative model. Returns “positive” or\n",
        "    “negative” depending on which model has the highest probability for the review.\n",
        "    Ties goes to positive.\n",
        "    :param string: The review to be classified\n",
        "    :param pos_dict: The positive model (dict)\n",
        "    :param neg_dict: The negative model (dict)\n",
        "    :return: “positive” or “negative” depending on which model has the highest probability for the review.\n",
        "    \"\"\"\n",
        "    pos_probs = get_probability(pos_dict, string)\n",
        "    neg_probs = get_probability(neg_dict, string)\n",
        "    if (pos_probs - neg_probs) >= 0:\n",
        "        return 'positive'\n",
        "    else:\n",
        "        return 'negative'\n",
        "\n",
        "def sentiment_analyzer_interactive(pos_list, neg_list):\n",
        "    \"\"\"\n",
        "    An interactive function that takes two files as input, a positive\n",
        "    examples file and a negative examples file. It would train a positive\n",
        "    and negative model using these files and then repeatedly ask the user\n",
        "    to enter a sentence and then output the classification of that sentence\n",
        "    (as positive or negative). A blank line/sentence should terminate the function.\n",
        "    :param pos_file: File name of the positive training data\n",
        "    :param neg_file: File name of the negative training data\n",
        "    \"\"\"\n",
        "    pos_dict = train_model(pos_list, pos_lemma)\n",
        "    neg_dict = train_model(neg_list, neg_lemma)  # Train the models\n",
        "\n",
        "    print('Blank line terminates.')\n",
        "    string = input('Enter a sentence: ')\n",
        "    while string != '':\n",
        "        print(classify(string, pos_dict, neg_dict))\n",
        "        string = input('Enter a sentence: ')\n",
        "\n",
        "\n",
        "\n",
        "def get_accuracy(pos_train, neg_train, pos_test, neg_test):\n",
        "    \"\"\"\n",
        "    A function that would train the model (i.e., both positive and negative counts) and then classify\n",
        "    all of the test examples (both positive and negative) and keep track of the accuracy of the\n",
        "    model. It would print out three scores: the accuracy on the positive test examples,\n",
        "    the accuracy on the negative test examples, and the accuracy on all of the test examples.\n",
        "    :param pos_test_name: File name of the positive testing data\n",
        "    :param neg_test_name: File name of the negative testing data\n",
        "    :param pos_train: File name of the positive training data\n",
        "    :param neg_train: File name of the negative training data\n",
        "    \"\"\"\n",
        "    pos_dict = train_model(pos_train, pos_lemma)\n",
        "    neg_dict = train_model(neg_train, neg_lemma)  # Train the models\n",
        "\n",
        "    pos_total = len(pos_test)\n",
        "    neg_total = len(neg_test)  # Total num of pos & neg reviews\n",
        "\n",
        "    pos_actual = 0\n",
        "    neg_actual = 0  # Initialise\n",
        "\n",
        "    for l in pos_test:\n",
        "        if classify(l, pos_dict, neg_dict) == 'positive':\n",
        "            pos_actual += 1\n",
        "\n",
        "    for l in neg_test:\n",
        "        if classify(l, pos_dict, neg_dict) == 'negative':\n",
        "            neg_actual += 1\n",
        "\n",
        "    pos_accuracy = pos_actual / pos_total\n",
        "    neg_accuracy = neg_actual / neg_total\n",
        "    total_accuracy = (pos_actual + neg_actual) / (pos_total + neg_total)\n",
        "\n",
        "    print('Positive accuracy: ', pos_accuracy)\n",
        "    print('Negative accuracy: ', neg_accuracy)\n",
        "    print('Total accuracy: ', total_accuracy)"
      ],
      "metadata": {
        "id": "6xfVfkJHTwbi"
      },
      "execution_count": null,
      "outputs": []
    },
    {
      "cell_type": "code",
      "source": [
        "get_accuracy(pos_list, neg_list, pos_korpi, neg_korpi)"
      ],
      "metadata": {
        "colab": {
          "base_uri": "https://localhost:8080/"
        },
        "id": "zYowRdUWeMTF",
        "outputId": "9317664c-d14a-4b79-fc8e-96149299a9a5"
      },
      "execution_count": null,
      "outputs": [
        {
          "output_type": "stream",
          "name": "stdout",
          "text": [
            "Positive accuracy:  0.3932444645277903\n",
            "Negative accuracy:  0.7922077922077922\n",
            "Total accuracy:  0.43095335515548283\n"
          ]
        }
      ]
    },
    {
      "cell_type": "code",
      "source": [
        "sentiment_analyzer_interactive(pos_list, neg_list)"
      ],
      "metadata": {
        "colab": {
          "base_uri": "https://localhost:8080/"
        },
        "id": "jdpuaGHsUp_X",
        "outputId": "db046a68-1019-4d8e-af75-d31ad45e0bea"
      },
      "execution_count": null,
      "outputs": [
        {
          "name": "stdout",
          "output_type": "stream",
          "text": [
            "Blank line terminates.\n",
            "Enter a sentence: Jos taas mielestäsi maailmassa on jokin pielessä ja haluat muutosta, osoita tukesi niin liity mukaan muuttamaan maailmaa.\n",
            "positive\n",
            "Enter a sentence: \n"
          ]
        }
      ]
    },
    {
      "cell_type": "markdown",
      "source": [
        "### Model choice and comparisons\n",
        "\n",
        "In addition to my self-built model, several other built classifier models are used, including the NLTK Naïve Bayes, Scikit-learn Naïve Bayes (Bernoulli), and Scikit-learn Support Vector Machine.\n",
        "\n",
        "For the comprehensive comparison result, see [here](https://github.com/xh313/Corpus-Linguistics-Works/blob/main/CorpusLingLocalScripts/fi_model_testing.txt).\n",
        "\n"
      ],
      "metadata": {
        "id": "eAs6eKaBNASo"
      }
    },
    {
      "cell_type": "markdown",
      "source": [
        "### Translating & English sentiment\n",
        "\n",
        "Google translation and google translator API is used for translation. \n",
        "\n",
        "TextBlob is used for English sentiment analysis in order to compare with the source language results.\n",
        "\n",
        "The TextBlob.sentiment method also uses the NLTK Naïve Bayes classifier, which is the same algorithm as the one I built for Finnish."
      ],
      "metadata": {
        "id": "VBep2kCjf_m9"
      }
    },
    {
      "cell_type": "code",
      "source": [
        "# Emoji stripper\n",
        "def strip_emoji(text):\n",
        "  all_emoji = re.compile('[\\U00010000-\\U0010ffff]', flags=re.UNICODE)\n",
        "  return all_emoji.sub(r'', text)"
      ],
      "metadata": {
        "id": "393n5bdNGeBa"
      },
      "execution_count": null,
      "outputs": []
    },
    {
      "cell_type": "code",
      "source": [
        "from textblob.blob import Sentence\n",
        "def analyze_in_eng(subreddit, ordinal=1):\n",
        "  \"\"\"\n",
        "  Translate the file named the same as the subreddit, then analyse the\n",
        "  sentiment of the text.\n",
        "  Returns the positive/negative data dict.\n",
        "  Look for the filename and its ordinal in the drive!\n",
        "  \"\"\"\n",
        "  translator = Translator()  # To use the google api\n",
        "\n",
        "  infile = open('/content/drive/My Drive/LGCS124/FinalProject/TestCorpora/' \n",
        "                + str(int(ordinal)) + '_' + subreddit + '.txt')\n",
        "  pos_count = 0\n",
        "  neg_count = 0\n",
        "  pos_posts = []\n",
        "  neg_posts = []\n",
        "  neu_posts = []\n",
        "  polarity_all_posts = []\n",
        "\n",
        "  for line in infile:\n",
        "    line_clean = strip_emoji(line)  # Remove emoji\n",
        "    line_clean = re.sub(r'http\\S+', '', line_clean)  # Remove links\n",
        "    line_clean = re.sub(r'\\s{2,}', ' ', line_clean)  # Remove extra spaces\n",
        "    line_clean = re.sub(r'\\*', '', line_clean)  # Remove asterisks\n",
        "    \n",
        "    lineblob = TextBlob(line_clean)  # Create a textblob\n",
        "    polarity_all_sentences = []  # Initialise\n",
        "    for sentence in lineblob.sentences:\n",
        "      lang = translator.detect(str(sentence)).lang\n",
        "      if lang != 'en':\n",
        "        sentence = sentence.translate(to='en')  # Into English!\n",
        "      print(f'Sentence: {sentence}')\n",
        "      polarity = sentence.sentiment.polarity\n",
        "      print(f'Polarity: {polarity}')\n",
        "      polarity_all_sentences.append(polarity)\n",
        "      polarity_all_posts.append(polarity)\n",
        "    \n",
        "    average_polarity = np.average(polarity_all_sentences)\n",
        "    if average_polarity < 0:\n",
        "      neg_count += 1\n",
        "      neg_posts.append(line)\n",
        "    if average_polarity > 0:\n",
        "      pos_count += 1\n",
        "      pos_posts.append(line)\n",
        "    else:\n",
        "      neu_posts.append(line)\n",
        "\n",
        "  # Calculate the proportion of positive posts\n",
        "  proportion = pos_count / (pos_count + neg_count)\n",
        "  avg_polarity = np.average(polarity_all_posts)\n",
        "\n",
        "  # Sort a dict of data\n",
        "  data = {'pos': pos_count, 'neg': neg_count,\n",
        "          'prop': proportion, 'pol': avg_polarity,\n",
        "          'pos_posts': pos_posts, 'neg_posts': neg_posts,\n",
        "          'neu_posts': neu_posts}\n",
        "  \n",
        "  # Print the data of the file analysed\n",
        "  print(f'{subreddit}, translated version')\n",
        "  print('Positives: ' + str(pos_count))\n",
        "  print('Negatives: ' + str(neg_count))\n",
        "  print('Portion Positive: ' + str(proportion))\n",
        "  print(f'Average Polarity: {avg_polarity}')\n",
        "\n",
        "\n",
        "  return data"
      ],
      "metadata": {
        "id": "g5L3OBiwjFSt"
      },
      "execution_count": null,
      "outputs": []
    },
    {
      "cell_type": "code",
      "source": [
        "# Tester TAKES EXTRA LONG CAUTION\n",
        "analyze_in_eng('Suomi', 1)\n",
        "\n",
        "print('End marker')"
      ],
      "metadata": {
        "id": "eR6X4Ugq8M6L"
      },
      "execution_count": null,
      "outputs": []
    },
    {
      "cell_type": "markdown",
      "source": [
        "# Data"
      ],
      "metadata": {
        "id": "ZvUms5kAxq5O"
      }
    },
    {
      "cell_type": "markdown",
      "source": [
        "## Current collection method / progress\n",
        "The data I currently need to collect are how effective the different sentiment classifying models are, and what the sentiments of my scraped texts are based on the prediction of the models.\n",
        "\n",
        "To test the model, I wrote a function to get the accuracy by letting my model classify some labelled texts, and then compare the classification as predicted by the model with the actual label originally attached. I controlled the models to test on the same corpus with 2000 positive and 2000 negative sentences, of which randomly 90% is used in training the model and 10% is used in testing. I run each model on the shuffled data 3 times and take the average. The model I decided to use further has an accuracy of 69% for Finnish texts and 75% for English tests when trained on 4000 lines of data, and I would later test if increasing the data size would help increase the accuracy.\n",
        "\n",
        "For more detailed model accuracy [testing results](https://github.com/xh313/Corpus-Linguistics-Works/blob/main/CorpusLingLocalScripts/fi_model_testing.txt) and the [source codes of the model](https://github.com/xh313/Corpus-Linguistics-Works/blob/main/CorpusLingLocalScripts/translated_nltk.py), see the links.\n",
        "\n",
        "To get the sentiment, I simply make my models predict the sentiments of each sentence and post of my text and give me the statistics. I then collect the percentage of posts collected as positive and negative. I also repeat the classification 3 times and take the average. For the translated part, I first translate every sentence, and then run the model trained on English training data to analyze the translated text.\n",
        "\n",
        "For more sentiment raw data see [here](https://github.com/xh313/Corpus-Linguistics-Works/blob/main/CorpusLingLocalScripts/fi_model_result.txt).\n",
        "\n",
        "I have already obtained a sample datum for r/Suomi vs r/Finland. The former one (native forum), when analyzed in Finnish directly, gives out the result that the proportion of posts with positive sentiment is 71.5%; when translated into English and analysed, the proportion is 68.8%, which has a slight discrepancy. The latter one, where discussions are originally held in English, yielded a proportion of 81.8% positive, which is significantly higher than r/Suomi."
      ],
      "metadata": {
        "id": "1mmrtBUnxyIT"
      }
    },
    {
      "cell_type": "markdown",
      "source": [
        "## Model selection dataframe and visualisation\n",
        "\n",
        "This is the dataframe and visualisation constructed for the model selection part."
      ],
      "metadata": {
        "id": "yRiA41rmeKby"
      }
    },
    {
      "cell_type": "code",
      "source": [
        "test_df = pd.read_csv('https://raw.githubusercontent.com/xh313/Corpus-Linguistics-Works/main/model_testing_df.csv')\n",
        "\n",
        "test_df"
      ],
      "metadata": {
        "colab": {
          "base_uri": "https://localhost:8080/",
          "height": 457
        },
        "id": "CdBkhoEDtAjd",
        "outputId": "12462daf-9422-4cbc-b63d-655bc647ee66"
      },
      "execution_count": null,
      "outputs": [
        {
          "output_type": "execute_result",
          "data": {
            "text/plain": [
              "            model language      strategy  avg_accuracy\n",
              "0         NLTK NB  Finnish   Qualitative         0.690\n",
              "1         NLTK NB  Finnish   Qualitative         0.703\n",
              "2         NLTK NB  Finnish   Qualitative         0.680\n",
              "3         NLTK NB  Finnish  Quantitative         0.628\n",
              "4          SKL NB  Finnish   Qualitative         0.678\n",
              "5          SKL NB  Finnish  Quantitative         0.680\n",
              "6        NLTK SVM  Finnish   Qualitative         0.675\n",
              "7        NLTK SVM  Finnish  Quantitative         0.688\n",
              "8   Self-built NB  Finnish   Qualitative         0.730\n",
              "9   Self-built NB  Finnish   Qualitative         0.713\n",
              "10  Self-built NB  Finnish   Qualitative         0.735\n",
              "11        NLTK NB  English   Qualitative         0.750\n",
              "12            NaN      NaN           NaN           NaN"
            ],
            "text/html": [
              "\n",
              "  <div id=\"df-9f9a73e3-b4c0-43fd-8d4c-29f57b0510ba\">\n",
              "    <div class=\"colab-df-container\">\n",
              "      <div>\n",
              "<style scoped>\n",
              "    .dataframe tbody tr th:only-of-type {\n",
              "        vertical-align: middle;\n",
              "    }\n",
              "\n",
              "    .dataframe tbody tr th {\n",
              "        vertical-align: top;\n",
              "    }\n",
              "\n",
              "    .dataframe thead th {\n",
              "        text-align: right;\n",
              "    }\n",
              "</style>\n",
              "<table border=\"1\" class=\"dataframe\">\n",
              "  <thead>\n",
              "    <tr style=\"text-align: right;\">\n",
              "      <th></th>\n",
              "      <th>model</th>\n",
              "      <th>language</th>\n",
              "      <th>strategy</th>\n",
              "      <th>avg_accuracy</th>\n",
              "    </tr>\n",
              "  </thead>\n",
              "  <tbody>\n",
              "    <tr>\n",
              "      <th>0</th>\n",
              "      <td>NLTK NB</td>\n",
              "      <td>Finnish</td>\n",
              "      <td>Qualitative</td>\n",
              "      <td>0.690</td>\n",
              "    </tr>\n",
              "    <tr>\n",
              "      <th>1</th>\n",
              "      <td>NLTK NB</td>\n",
              "      <td>Finnish</td>\n",
              "      <td>Qualitative</td>\n",
              "      <td>0.703</td>\n",
              "    </tr>\n",
              "    <tr>\n",
              "      <th>2</th>\n",
              "      <td>NLTK NB</td>\n",
              "      <td>Finnish</td>\n",
              "      <td>Qualitative</td>\n",
              "      <td>0.680</td>\n",
              "    </tr>\n",
              "    <tr>\n",
              "      <th>3</th>\n",
              "      <td>NLTK NB</td>\n",
              "      <td>Finnish</td>\n",
              "      <td>Quantitative</td>\n",
              "      <td>0.628</td>\n",
              "    </tr>\n",
              "    <tr>\n",
              "      <th>4</th>\n",
              "      <td>SKL NB</td>\n",
              "      <td>Finnish</td>\n",
              "      <td>Qualitative</td>\n",
              "      <td>0.678</td>\n",
              "    </tr>\n",
              "    <tr>\n",
              "      <th>5</th>\n",
              "      <td>SKL NB</td>\n",
              "      <td>Finnish</td>\n",
              "      <td>Quantitative</td>\n",
              "      <td>0.680</td>\n",
              "    </tr>\n",
              "    <tr>\n",
              "      <th>6</th>\n",
              "      <td>NLTK SVM</td>\n",
              "      <td>Finnish</td>\n",
              "      <td>Qualitative</td>\n",
              "      <td>0.675</td>\n",
              "    </tr>\n",
              "    <tr>\n",
              "      <th>7</th>\n",
              "      <td>NLTK SVM</td>\n",
              "      <td>Finnish</td>\n",
              "      <td>Quantitative</td>\n",
              "      <td>0.688</td>\n",
              "    </tr>\n",
              "    <tr>\n",
              "      <th>8</th>\n",
              "      <td>Self-built NB</td>\n",
              "      <td>Finnish</td>\n",
              "      <td>Qualitative</td>\n",
              "      <td>0.730</td>\n",
              "    </tr>\n",
              "    <tr>\n",
              "      <th>9</th>\n",
              "      <td>Self-built NB</td>\n",
              "      <td>Finnish</td>\n",
              "      <td>Qualitative</td>\n",
              "      <td>0.713</td>\n",
              "    </tr>\n",
              "    <tr>\n",
              "      <th>10</th>\n",
              "      <td>Self-built NB</td>\n",
              "      <td>Finnish</td>\n",
              "      <td>Qualitative</td>\n",
              "      <td>0.735</td>\n",
              "    </tr>\n",
              "    <tr>\n",
              "      <th>11</th>\n",
              "      <td>NLTK NB</td>\n",
              "      <td>English</td>\n",
              "      <td>Qualitative</td>\n",
              "      <td>0.750</td>\n",
              "    </tr>\n",
              "    <tr>\n",
              "      <th>12</th>\n",
              "      <td>NaN</td>\n",
              "      <td>NaN</td>\n",
              "      <td>NaN</td>\n",
              "      <td>NaN</td>\n",
              "    </tr>\n",
              "  </tbody>\n",
              "</table>\n",
              "</div>\n",
              "      <button class=\"colab-df-convert\" onclick=\"convertToInteractive('df-9f9a73e3-b4c0-43fd-8d4c-29f57b0510ba')\"\n",
              "              title=\"Convert this dataframe to an interactive table.\"\n",
              "              style=\"display:none;\">\n",
              "        \n",
              "  <svg xmlns=\"http://www.w3.org/2000/svg\" height=\"24px\"viewBox=\"0 0 24 24\"\n",
              "       width=\"24px\">\n",
              "    <path d=\"M0 0h24v24H0V0z\" fill=\"none\"/>\n",
              "    <path d=\"M18.56 5.44l.94 2.06.94-2.06 2.06-.94-2.06-.94-.94-2.06-.94 2.06-2.06.94zm-11 1L8.5 8.5l.94-2.06 2.06-.94-2.06-.94L8.5 2.5l-.94 2.06-2.06.94zm10 10l.94 2.06.94-2.06 2.06-.94-2.06-.94-.94-2.06-.94 2.06-2.06.94z\"/><path d=\"M17.41 7.96l-1.37-1.37c-.4-.4-.92-.59-1.43-.59-.52 0-1.04.2-1.43.59L10.3 9.45l-7.72 7.72c-.78.78-.78 2.05 0 2.83L4 21.41c.39.39.9.59 1.41.59.51 0 1.02-.2 1.41-.59l7.78-7.78 2.81-2.81c.8-.78.8-2.07 0-2.86zM5.41 20L4 18.59l7.72-7.72 1.47 1.35L5.41 20z\"/>\n",
              "  </svg>\n",
              "      </button>\n",
              "      \n",
              "  <style>\n",
              "    .colab-df-container {\n",
              "      display:flex;\n",
              "      flex-wrap:wrap;\n",
              "      gap: 12px;\n",
              "    }\n",
              "\n",
              "    .colab-df-convert {\n",
              "      background-color: #E8F0FE;\n",
              "      border: none;\n",
              "      border-radius: 50%;\n",
              "      cursor: pointer;\n",
              "      display: none;\n",
              "      fill: #1967D2;\n",
              "      height: 32px;\n",
              "      padding: 0 0 0 0;\n",
              "      width: 32px;\n",
              "    }\n",
              "\n",
              "    .colab-df-convert:hover {\n",
              "      background-color: #E2EBFA;\n",
              "      box-shadow: 0px 1px 2px rgba(60, 64, 67, 0.3), 0px 1px 3px 1px rgba(60, 64, 67, 0.15);\n",
              "      fill: #174EA6;\n",
              "    }\n",
              "\n",
              "    [theme=dark] .colab-df-convert {\n",
              "      background-color: #3B4455;\n",
              "      fill: #D2E3FC;\n",
              "    }\n",
              "\n",
              "    [theme=dark] .colab-df-convert:hover {\n",
              "      background-color: #434B5C;\n",
              "      box-shadow: 0px 1px 3px 1px rgba(0, 0, 0, 0.15);\n",
              "      filter: drop-shadow(0px 1px 2px rgba(0, 0, 0, 0.3));\n",
              "      fill: #FFFFFF;\n",
              "    }\n",
              "  </style>\n",
              "\n",
              "      <script>\n",
              "        const buttonEl =\n",
              "          document.querySelector('#df-9f9a73e3-b4c0-43fd-8d4c-29f57b0510ba button.colab-df-convert');\n",
              "        buttonEl.style.display =\n",
              "          google.colab.kernel.accessAllowed ? 'block' : 'none';\n",
              "\n",
              "        async function convertToInteractive(key) {\n",
              "          const element = document.querySelector('#df-9f9a73e3-b4c0-43fd-8d4c-29f57b0510ba');\n",
              "          const dataTable =\n",
              "            await google.colab.kernel.invokeFunction('convertToInteractive',\n",
              "                                                     [key], {});\n",
              "          if (!dataTable) return;\n",
              "\n",
              "          const docLinkHtml = 'Like what you see? Visit the ' +\n",
              "            '<a target=\"_blank\" href=https://colab.research.google.com/notebooks/data_table.ipynb>data table notebook</a>'\n",
              "            + ' to learn more about interactive tables.';\n",
              "          element.innerHTML = '';\n",
              "          dataTable['output_type'] = 'display_data';\n",
              "          await google.colab.output.renderOutput(dataTable, element);\n",
              "          const docLink = document.createElement('div');\n",
              "          docLink.innerHTML = docLinkHtml;\n",
              "          element.appendChild(docLink);\n",
              "        }\n",
              "      </script>\n",
              "    </div>\n",
              "  </div>\n",
              "  "
            ]
          },
          "metadata": {},
          "execution_count": 6
        }
      ]
    },
    {
      "cell_type": "markdown",
      "source": [
        "To visualise a bit:"
      ],
      "metadata": {
        "id": "YCqsmv-6u4IW"
      }
    },
    {
      "cell_type": "code",
      "source": [
        "# Select Finnish data first\n",
        "test_df_fi = test_df[(test_df.language == 'Finnish')]\n",
        "test_df_fi"
      ],
      "metadata": {
        "colab": {
          "base_uri": "https://localhost:8080/",
          "height": 394
        },
        "id": "KPcISIoa3Do3",
        "outputId": "bdf562b8-1478-4aad-dbd2-a25f0e3e7790"
      },
      "execution_count": null,
      "outputs": [
        {
          "output_type": "execute_result",
          "data": {
            "text/plain": [
              "            model language      strategy  avg_accuracy\n",
              "0         NLTK NB  Finnish   Qualitative         0.690\n",
              "1         NLTK NB  Finnish   Qualitative         0.703\n",
              "2         NLTK NB  Finnish   Qualitative         0.680\n",
              "3         NLTK NB  Finnish  Quantitative         0.628\n",
              "4          SKL NB  Finnish   Qualitative         0.678\n",
              "5          SKL NB  Finnish  Quantitative         0.680\n",
              "6        NLTK SVM  Finnish   Qualitative         0.675\n",
              "7        NLTK SVM  Finnish  Quantitative         0.688\n",
              "8   Self-built NB  Finnish   Qualitative         0.730\n",
              "9   Self-built NB  Finnish   Qualitative         0.713\n",
              "10  Self-built NB  Finnish   Qualitative         0.735"
            ],
            "text/html": [
              "\n",
              "  <div id=\"df-4e83f108-98c1-4fd9-9c15-647a07f85930\">\n",
              "    <div class=\"colab-df-container\">\n",
              "      <div>\n",
              "<style scoped>\n",
              "    .dataframe tbody tr th:only-of-type {\n",
              "        vertical-align: middle;\n",
              "    }\n",
              "\n",
              "    .dataframe tbody tr th {\n",
              "        vertical-align: top;\n",
              "    }\n",
              "\n",
              "    .dataframe thead th {\n",
              "        text-align: right;\n",
              "    }\n",
              "</style>\n",
              "<table border=\"1\" class=\"dataframe\">\n",
              "  <thead>\n",
              "    <tr style=\"text-align: right;\">\n",
              "      <th></th>\n",
              "      <th>model</th>\n",
              "      <th>language</th>\n",
              "      <th>strategy</th>\n",
              "      <th>avg_accuracy</th>\n",
              "    </tr>\n",
              "  </thead>\n",
              "  <tbody>\n",
              "    <tr>\n",
              "      <th>0</th>\n",
              "      <td>NLTK NB</td>\n",
              "      <td>Finnish</td>\n",
              "      <td>Qualitative</td>\n",
              "      <td>0.690</td>\n",
              "    </tr>\n",
              "    <tr>\n",
              "      <th>1</th>\n",
              "      <td>NLTK NB</td>\n",
              "      <td>Finnish</td>\n",
              "      <td>Qualitative</td>\n",
              "      <td>0.703</td>\n",
              "    </tr>\n",
              "    <tr>\n",
              "      <th>2</th>\n",
              "      <td>NLTK NB</td>\n",
              "      <td>Finnish</td>\n",
              "      <td>Qualitative</td>\n",
              "      <td>0.680</td>\n",
              "    </tr>\n",
              "    <tr>\n",
              "      <th>3</th>\n",
              "      <td>NLTK NB</td>\n",
              "      <td>Finnish</td>\n",
              "      <td>Quantitative</td>\n",
              "      <td>0.628</td>\n",
              "    </tr>\n",
              "    <tr>\n",
              "      <th>4</th>\n",
              "      <td>SKL NB</td>\n",
              "      <td>Finnish</td>\n",
              "      <td>Qualitative</td>\n",
              "      <td>0.678</td>\n",
              "    </tr>\n",
              "    <tr>\n",
              "      <th>5</th>\n",
              "      <td>SKL NB</td>\n",
              "      <td>Finnish</td>\n",
              "      <td>Quantitative</td>\n",
              "      <td>0.680</td>\n",
              "    </tr>\n",
              "    <tr>\n",
              "      <th>6</th>\n",
              "      <td>NLTK SVM</td>\n",
              "      <td>Finnish</td>\n",
              "      <td>Qualitative</td>\n",
              "      <td>0.675</td>\n",
              "    </tr>\n",
              "    <tr>\n",
              "      <th>7</th>\n",
              "      <td>NLTK SVM</td>\n",
              "      <td>Finnish</td>\n",
              "      <td>Quantitative</td>\n",
              "      <td>0.688</td>\n",
              "    </tr>\n",
              "    <tr>\n",
              "      <th>8</th>\n",
              "      <td>Self-built NB</td>\n",
              "      <td>Finnish</td>\n",
              "      <td>Qualitative</td>\n",
              "      <td>0.730</td>\n",
              "    </tr>\n",
              "    <tr>\n",
              "      <th>9</th>\n",
              "      <td>Self-built NB</td>\n",
              "      <td>Finnish</td>\n",
              "      <td>Qualitative</td>\n",
              "      <td>0.713</td>\n",
              "    </tr>\n",
              "    <tr>\n",
              "      <th>10</th>\n",
              "      <td>Self-built NB</td>\n",
              "      <td>Finnish</td>\n",
              "      <td>Qualitative</td>\n",
              "      <td>0.735</td>\n",
              "    </tr>\n",
              "  </tbody>\n",
              "</table>\n",
              "</div>\n",
              "      <button class=\"colab-df-convert\" onclick=\"convertToInteractive('df-4e83f108-98c1-4fd9-9c15-647a07f85930')\"\n",
              "              title=\"Convert this dataframe to an interactive table.\"\n",
              "              style=\"display:none;\">\n",
              "        \n",
              "  <svg xmlns=\"http://www.w3.org/2000/svg\" height=\"24px\"viewBox=\"0 0 24 24\"\n",
              "       width=\"24px\">\n",
              "    <path d=\"M0 0h24v24H0V0z\" fill=\"none\"/>\n",
              "    <path d=\"M18.56 5.44l.94 2.06.94-2.06 2.06-.94-2.06-.94-.94-2.06-.94 2.06-2.06.94zm-11 1L8.5 8.5l.94-2.06 2.06-.94-2.06-.94L8.5 2.5l-.94 2.06-2.06.94zm10 10l.94 2.06.94-2.06 2.06-.94-2.06-.94-.94-2.06-.94 2.06-2.06.94z\"/><path d=\"M17.41 7.96l-1.37-1.37c-.4-.4-.92-.59-1.43-.59-.52 0-1.04.2-1.43.59L10.3 9.45l-7.72 7.72c-.78.78-.78 2.05 0 2.83L4 21.41c.39.39.9.59 1.41.59.51 0 1.02-.2 1.41-.59l7.78-7.78 2.81-2.81c.8-.78.8-2.07 0-2.86zM5.41 20L4 18.59l7.72-7.72 1.47 1.35L5.41 20z\"/>\n",
              "  </svg>\n",
              "      </button>\n",
              "      \n",
              "  <style>\n",
              "    .colab-df-container {\n",
              "      display:flex;\n",
              "      flex-wrap:wrap;\n",
              "      gap: 12px;\n",
              "    }\n",
              "\n",
              "    .colab-df-convert {\n",
              "      background-color: #E8F0FE;\n",
              "      border: none;\n",
              "      border-radius: 50%;\n",
              "      cursor: pointer;\n",
              "      display: none;\n",
              "      fill: #1967D2;\n",
              "      height: 32px;\n",
              "      padding: 0 0 0 0;\n",
              "      width: 32px;\n",
              "    }\n",
              "\n",
              "    .colab-df-convert:hover {\n",
              "      background-color: #E2EBFA;\n",
              "      box-shadow: 0px 1px 2px rgba(60, 64, 67, 0.3), 0px 1px 3px 1px rgba(60, 64, 67, 0.15);\n",
              "      fill: #174EA6;\n",
              "    }\n",
              "\n",
              "    [theme=dark] .colab-df-convert {\n",
              "      background-color: #3B4455;\n",
              "      fill: #D2E3FC;\n",
              "    }\n",
              "\n",
              "    [theme=dark] .colab-df-convert:hover {\n",
              "      background-color: #434B5C;\n",
              "      box-shadow: 0px 1px 3px 1px rgba(0, 0, 0, 0.15);\n",
              "      filter: drop-shadow(0px 1px 2px rgba(0, 0, 0, 0.3));\n",
              "      fill: #FFFFFF;\n",
              "    }\n",
              "  </style>\n",
              "\n",
              "      <script>\n",
              "        const buttonEl =\n",
              "          document.querySelector('#df-4e83f108-98c1-4fd9-9c15-647a07f85930 button.colab-df-convert');\n",
              "        buttonEl.style.display =\n",
              "          google.colab.kernel.accessAllowed ? 'block' : 'none';\n",
              "\n",
              "        async function convertToInteractive(key) {\n",
              "          const element = document.querySelector('#df-4e83f108-98c1-4fd9-9c15-647a07f85930');\n",
              "          const dataTable =\n",
              "            await google.colab.kernel.invokeFunction('convertToInteractive',\n",
              "                                                     [key], {});\n",
              "          if (!dataTable) return;\n",
              "\n",
              "          const docLinkHtml = 'Like what you see? Visit the ' +\n",
              "            '<a target=\"_blank\" href=https://colab.research.google.com/notebooks/data_table.ipynb>data table notebook</a>'\n",
              "            + ' to learn more about interactive tables.';\n",
              "          element.innerHTML = '';\n",
              "          dataTable['output_type'] = 'display_data';\n",
              "          await google.colab.output.renderOutput(dataTable, element);\n",
              "          const docLink = document.createElement('div');\n",
              "          docLink.innerHTML = docLinkHtml;\n",
              "          element.appendChild(docLink);\n",
              "        }\n",
              "      </script>\n",
              "    </div>\n",
              "  </div>\n",
              "  "
            ]
          },
          "metadata": {},
          "execution_count": 7
        }
      ]
    },
    {
      "cell_type": "code",
      "source": [
        "sns.set_theme(style=\"whitegrid\")\n",
        "plt.figure(dpi=200, figsize=(7, 2.5))\n",
        "test_ax = sns.pointplot(\n",
        "    data=test_df_fi,\n",
        "    x=\"model\", y=\"avg_accuracy\", hue=\"strategy\", #style=\"language\",\n",
        "    join=False, palette='cubehelix',\n",
        "    capsize=.1, dodge=True, errwidth=1,\n",
        "    markers='.',\n",
        ")\n",
        "plt.xlabel('Models used for classification')\n",
        "plt.ylabel('Average Accuracy (fraction)')\n",
        "plt.title('Accuracies of classification for different models')\n",
        "\n",
        "plt.savefig('model_accuracy.svg')\n",
        "plt.show()"
      ],
      "metadata": {
        "colab": {
          "base_uri": "https://localhost:8080/",
          "height": 468
        },
        "id": "SWyo5oR2u3pL",
        "outputId": "ec92f542-3295-4226-a19d-735a330c5e16"
      },
      "execution_count": null,
      "outputs": [
        {
          "output_type": "display_data",
          "data": {
            "text/plain": [
              "<Figure size 1400x500 with 1 Axes>"
            ],
            "image/png": "[encoded data removed]"
          },
          "metadata": {}
        }
      ]
    },
    {
      "cell_type": "markdown",
      "source": [
        "## Results data visualisation"
      ],
      "metadata": {
        "id": "P1YcP54R7vAL"
      }
    },
    {
      "cell_type": "code",
      "source": [
        "res_df = pd.read_csv('https://raw.githubusercontent.com/xh313/Corpus-Linguistics-Works/main/model_results_df.csv')\n",
        "res_df"
      ],
      "metadata": {
        "colab": {
          "base_uri": "https://localhost:8080/",
          "height": 424
        },
        "id": "zNAwtJoG7yFR",
        "outputId": "16e6a087-db1e-4ff4-e7d1-8a728c943b85"
      },
      "execution_count": 5,
      "outputs": [
        {
          "output_type": "execute_result",
          "data": {
            "text/plain": [
              "      model   subreddit collection_date (M/D/Y)   language       country  \\\n",
              "0   NLTK NB     r/Suomi                  4/6/22    Finnish       Finland   \n",
              "1   NLTK NB     r/Suomi                  4/6/22    Finnish       Finland   \n",
              "2   NLTK NB     r/Suomi                  4/6/22    Finnish       Finland   \n",
              "3   NLTK NB     r/Suomi                  4/6/22    Finnish       Finland   \n",
              "4   NLTK NB     r/Suomi                  4/6/22    Finnish       Finland   \n",
              "..      ...         ...                     ...        ...           ...   \n",
              "69  NLTK NB        r/ja                 4/27/22   Japanese         Japan   \n",
              "70  NLTK NB  r/thaithai                 4/27/22       Thai      Thailand   \n",
              "71  NLTK NB        r/es                 4/27/22    Spanish         Spain   \n",
              "72  NLTK NB       r/RSA                 4/27/22    English  South Africa   \n",
              "73  NLTK NB     r/norge                 4/27/22  Norwegian        Norway   \n",
              "\n",
              "    translated  portion_positive  native  \n",
              "0        False             0.703    True  \n",
              "1        False             0.703    True  \n",
              "2        False             0.739    True  \n",
              "3         True             0.681    True  \n",
              "4         True             0.688    True  \n",
              "..         ...               ...     ...  \n",
              "69        True             0.779    True  \n",
              "70        True             0.869    True  \n",
              "71        True             0.926    True  \n",
              "72       False             0.903    True  \n",
              "73        True             0.817    True  \n",
              "\n",
              "[74 rows x 8 columns]"
            ],
            "text/html": [
              "\n",
              "  <div id=\"df-ff166d74-f2ee-4352-9a79-01b48329d34d\">\n",
              "    <div class=\"colab-df-container\">\n",
              "      <div>\n",
              "<style scoped>\n",
              "    .dataframe tbody tr th:only-of-type {\n",
              "        vertical-align: middle;\n",
              "    }\n",
              "\n",
              "    .dataframe tbody tr th {\n",
              "        vertical-align: top;\n",
              "    }\n",
              "\n",
              "    .dataframe thead th {\n",
              "        text-align: right;\n",
              "    }\n",
              "</style>\n",
              "<table border=\"1\" class=\"dataframe\">\n",
              "  <thead>\n",
              "    <tr style=\"text-align: right;\">\n",
              "      <th></th>\n",
              "      <th>model</th>\n",
              "      <th>subreddit</th>\n",
              "      <th>collection_date (M/D/Y)</th>\n",
              "      <th>language</th>\n",
              "      <th>country</th>\n",
              "      <th>translated</th>\n",
              "      <th>portion_positive</th>\n",
              "      <th>native</th>\n",
              "    </tr>\n",
              "  </thead>\n",
              "  <tbody>\n",
              "    <tr>\n",
              "      <th>0</th>\n",
              "      <td>NLTK NB</td>\n",
              "      <td>r/Suomi</td>\n",
              "      <td>4/6/22</td>\n",
              "      <td>Finnish</td>\n",
              "      <td>Finland</td>\n",
              "      <td>False</td>\n",
              "      <td>0.703</td>\n",
              "      <td>True</td>\n",
              "    </tr>\n",
              "    <tr>\n",
              "      <th>1</th>\n",
              "      <td>NLTK NB</td>\n",
              "      <td>r/Suomi</td>\n",
              "      <td>4/6/22</td>\n",
              "      <td>Finnish</td>\n",
              "      <td>Finland</td>\n",
              "      <td>False</td>\n",
              "      <td>0.703</td>\n",
              "      <td>True</td>\n",
              "    </tr>\n",
              "    <tr>\n",
              "      <th>2</th>\n",
              "      <td>NLTK NB</td>\n",
              "      <td>r/Suomi</td>\n",
              "      <td>4/6/22</td>\n",
              "      <td>Finnish</td>\n",
              "      <td>Finland</td>\n",
              "      <td>False</td>\n",
              "      <td>0.739</td>\n",
              "      <td>True</td>\n",
              "    </tr>\n",
              "    <tr>\n",
              "      <th>3</th>\n",
              "      <td>NLTK NB</td>\n",
              "      <td>r/Suomi</td>\n",
              "      <td>4/6/22</td>\n",
              "      <td>Finnish</td>\n",
              "      <td>Finland</td>\n",
              "      <td>True</td>\n",
              "      <td>0.681</td>\n",
              "      <td>True</td>\n",
              "    </tr>\n",
              "    <tr>\n",
              "      <th>4</th>\n",
              "      <td>NLTK NB</td>\n",
              "      <td>r/Suomi</td>\n",
              "      <td>4/6/22</td>\n",
              "      <td>Finnish</td>\n",
              "      <td>Finland</td>\n",
              "      <td>True</td>\n",
              "      <td>0.688</td>\n",
              "      <td>True</td>\n",
              "    </tr>\n",
              "    <tr>\n",
              "      <th>...</th>\n",
              "      <td>...</td>\n",
              "      <td>...</td>\n",
              "      <td>...</td>\n",
              "      <td>...</td>\n",
              "      <td>...</td>\n",
              "      <td>...</td>\n",
              "      <td>...</td>\n",
              "      <td>...</td>\n",
              "    </tr>\n",
              "    <tr>\n",
              "      <th>69</th>\n",
              "      <td>NLTK NB</td>\n",
              "      <td>r/ja</td>\n",
              "      <td>4/27/22</td>\n",
              "      <td>Japanese</td>\n",
              "      <td>Japan</td>\n",
              "      <td>True</td>\n",
              "      <td>0.779</td>\n",
              "      <td>True</td>\n",
              "    </tr>\n",
              "    <tr>\n",
              "      <th>70</th>\n",
              "      <td>NLTK NB</td>\n",
              "      <td>r/thaithai</td>\n",
              "      <td>4/27/22</td>\n",
              "      <td>Thai</td>\n",
              "      <td>Thailand</td>\n",
              "      <td>True</td>\n",
              "      <td>0.869</td>\n",
              "      <td>True</td>\n",
              "    </tr>\n",
              "    <tr>\n",
              "      <th>71</th>\n",
              "      <td>NLTK NB</td>\n",
              "      <td>r/es</td>\n",
              "      <td>4/27/22</td>\n",
              "      <td>Spanish</td>\n",
              "      <td>Spain</td>\n",
              "      <td>True</td>\n",
              "      <td>0.926</td>\n",
              "      <td>True</td>\n",
              "    </tr>\n",
              "    <tr>\n",
              "      <th>72</th>\n",
              "      <td>NLTK NB</td>\n",
              "      <td>r/RSA</td>\n",
              "      <td>4/27/22</td>\n",
              "      <td>English</td>\n",
              "      <td>South Africa</td>\n",
              "      <td>False</td>\n",
              "      <td>0.903</td>\n",
              "      <td>True</td>\n",
              "    </tr>\n",
              "    <tr>\n",
              "      <th>73</th>\n",
              "      <td>NLTK NB</td>\n",
              "      <td>r/norge</td>\n",
              "      <td>4/27/22</td>\n",
              "      <td>Norwegian</td>\n",
              "      <td>Norway</td>\n",
              "      <td>True</td>\n",
              "      <td>0.817</td>\n",
              "      <td>True</td>\n",
              "    </tr>\n",
              "  </tbody>\n",
              "</table>\n",
              "<p>74 rows × 8 columns</p>\n",
              "</div>\n",
              "      <button class=\"colab-df-convert\" onclick=\"convertToInteractive('df-ff166d74-f2ee-4352-9a79-01b48329d34d')\"\n",
              "              title=\"Convert this dataframe to an interactive table.\"\n",
              "              style=\"display:none;\">\n",
              "        \n",
              "  <svg xmlns=\"http://www.w3.org/2000/svg\" height=\"24px\"viewBox=\"0 0 24 24\"\n",
              "       width=\"24px\">\n",
              "    <path d=\"M0 0h24v24H0V0z\" fill=\"none\"/>\n",
              "    <path d=\"M18.56 5.44l.94 2.06.94-2.06 2.06-.94-2.06-.94-.94-2.06-.94 2.06-2.06.94zm-11 1L8.5 8.5l.94-2.06 2.06-.94-2.06-.94L8.5 2.5l-.94 2.06-2.06.94zm10 10l.94 2.06.94-2.06 2.06-.94-2.06-.94-.94-2.06-.94 2.06-2.06.94z\"/><path d=\"M17.41 7.96l-1.37-1.37c-.4-.4-.92-.59-1.43-.59-.52 0-1.04.2-1.43.59L10.3 9.45l-7.72 7.72c-.78.78-.78 2.05 0 2.83L4 21.41c.39.39.9.59 1.41.59.51 0 1.02-.2 1.41-.59l7.78-7.78 2.81-2.81c.8-.78.8-2.07 0-2.86zM5.41 20L4 18.59l7.72-7.72 1.47 1.35L5.41 20z\"/>\n",
              "  </svg>\n",
              "      </button>\n",
              "      \n",
              "  <style>\n",
              "    .colab-df-container {\n",
              "      display:flex;\n",
              "      flex-wrap:wrap;\n",
              "      gap: 12px;\n",
              "    }\n",
              "\n",
              "    .colab-df-convert {\n",
              "      background-color: #E8F0FE;\n",
              "      border: none;\n",
              "      border-radius: 50%;\n",
              "      cursor: pointer;\n",
              "      display: none;\n",
              "      fill: #1967D2;\n",
              "      height: 32px;\n",
              "      padding: 0 0 0 0;\n",
              "      width: 32px;\n",
              "    }\n",
              "\n",
              "    .colab-df-convert:hover {\n",
              "      background-color: #E2EBFA;\n",
              "      box-shadow: 0px 1px 2px rgba(60, 64, 67, 0.3), 0px 1px 3px 1px rgba(60, 64, 67, 0.15);\n",
              "      fill: #174EA6;\n",
              "    }\n",
              "\n",
              "    [theme=dark] .colab-df-convert {\n",
              "      background-color: #3B4455;\n",
              "      fill: #D2E3FC;\n",
              "    }\n",
              "\n",
              "    [theme=dark] .colab-df-convert:hover {\n",
              "      background-color: #434B5C;\n",
              "      box-shadow: 0px 1px 3px 1px rgba(0, 0, 0, 0.15);\n",
              "      filter: drop-shadow(0px 1px 2px rgba(0, 0, 0, 0.3));\n",
              "      fill: #FFFFFF;\n",
              "    }\n",
              "  </style>\n",
              "\n",
              "      <script>\n",
              "        const buttonEl =\n",
              "          document.querySelector('#df-ff166d74-f2ee-4352-9a79-01b48329d34d button.colab-df-convert');\n",
              "        buttonEl.style.display =\n",
              "          google.colab.kernel.accessAllowed ? 'block' : 'none';\n",
              "\n",
              "        async function convertToInteractive(key) {\n",
              "          const element = document.querySelector('#df-ff166d74-f2ee-4352-9a79-01b48329d34d');\n",
              "          const dataTable =\n",
              "            await google.colab.kernel.invokeFunction('convertToInteractive',\n",
              "                                                     [key], {});\n",
              "          if (!dataTable) return;\n",
              "\n",
              "          const docLinkHtml = 'Like what you see? Visit the ' +\n",
              "            '<a target=\"_blank\" href=https://colab.research.google.com/notebooks/data_table.ipynb>data table notebook</a>'\n",
              "            + ' to learn more about interactive tables.';\n",
              "          element.innerHTML = '';\n",
              "          dataTable['output_type'] = 'display_data';\n",
              "          await google.colab.output.renderOutput(dataTable, element);\n",
              "          const docLink = document.createElement('div');\n",
              "          docLink.innerHTML = docLinkHtml;\n",
              "          element.appendChild(docLink);\n",
              "        }\n",
              "      </script>\n",
              "    </div>\n",
              "  </div>\n",
              "  "
            ]
          },
          "metadata": {},
          "execution_count": 5
        }
      ]
    },
    {
      "cell_type": "code",
      "source": [
        "# Compare the effects of translation\n",
        "res_df_trans = res_df[(res_df.subreddit == 'r/Suomi') &\n",
        "                      (res_df['collection_date (M/D/Y)'].isin(['4/6/22'])) & \n",
        "                      (res_df.model == 'NLTK NB')]\n",
        "\n",
        "res_df_trans"
      ],
      "metadata": {
        "colab": {
          "base_uri": "https://localhost:8080/",
          "height": 238
        },
        "id": "m9ue_jSDEYNA",
        "outputId": "dfe9477a-0b5a-45cb-9cef-15b1decebbaa"
      },
      "execution_count": 6,
      "outputs": [
        {
          "output_type": "execute_result",
          "data": {
            "text/plain": [
              "     model subreddit collection_date (M/D/Y) language  country  translated  \\\n",
              "0  NLTK NB   r/Suomi                  4/6/22  Finnish  Finland       False   \n",
              "1  NLTK NB   r/Suomi                  4/6/22  Finnish  Finland       False   \n",
              "2  NLTK NB   r/Suomi                  4/6/22  Finnish  Finland       False   \n",
              "3  NLTK NB   r/Suomi                  4/6/22  Finnish  Finland        True   \n",
              "4  NLTK NB   r/Suomi                  4/6/22  Finnish  Finland        True   \n",
              "5  NLTK NB   r/Suomi                  4/6/22  Finnish  Finland        True   \n",
              "\n",
              "   portion_positive  native  \n",
              "0             0.703    True  \n",
              "1             0.703    True  \n",
              "2             0.739    True  \n",
              "3             0.681    True  \n",
              "4             0.688    True  \n",
              "5             0.703    True  "
            ],
            "text/html": [
              "\n",
              "  <div id=\"df-8080c188-1d4b-4657-8879-86d1e0b9f4a3\">\n",
              "    <div class=\"colab-df-container\">\n",
              "      <div>\n",
              "<style scoped>\n",
              "    .dataframe tbody tr th:only-of-type {\n",
              "        vertical-align: middle;\n",
              "    }\n",
              "\n",
              "    .dataframe tbody tr th {\n",
              "        vertical-align: top;\n",
              "    }\n",
              "\n",
              "    .dataframe thead th {\n",
              "        text-align: right;\n",
              "    }\n",
              "</style>\n",
              "<table border=\"1\" class=\"dataframe\">\n",
              "  <thead>\n",
              "    <tr style=\"text-align: right;\">\n",
              "      <th></th>\n",
              "      <th>model</th>\n",
              "      <th>subreddit</th>\n",
              "      <th>collection_date (M/D/Y)</th>\n",
              "      <th>language</th>\n",
              "      <th>country</th>\n",
              "      <th>translated</th>\n",
              "      <th>portion_positive</th>\n",
              "      <th>native</th>\n",
              "    </tr>\n",
              "  </thead>\n",
              "  <tbody>\n",
              "    <tr>\n",
              "      <th>0</th>\n",
              "      <td>NLTK NB</td>\n",
              "      <td>r/Suomi</td>\n",
              "      <td>4/6/22</td>\n",
              "      <td>Finnish</td>\n",
              "      <td>Finland</td>\n",
              "      <td>False</td>\n",
              "      <td>0.703</td>\n",
              "      <td>True</td>\n",
              "    </tr>\n",
              "    <tr>\n",
              "      <th>1</th>\n",
              "      <td>NLTK NB</td>\n",
              "      <td>r/Suomi</td>\n",
              "      <td>4/6/22</td>\n",
              "      <td>Finnish</td>\n",
              "      <td>Finland</td>\n",
              "      <td>False</td>\n",
              "      <td>0.703</td>\n",
              "      <td>True</td>\n",
              "    </tr>\n",
              "    <tr>\n",
              "      <th>2</th>\n",
              "      <td>NLTK NB</td>\n",
              "      <td>r/Suomi</td>\n",
              "      <td>4/6/22</td>\n",
              "      <td>Finnish</td>\n",
              "      <td>Finland</td>\n",
              "      <td>False</td>\n",
              "      <td>0.739</td>\n",
              "      <td>True</td>\n",
              "    </tr>\n",
              "    <tr>\n",
              "      <th>3</th>\n",
              "      <td>NLTK NB</td>\n",
              "      <td>r/Suomi</td>\n",
              "      <td>4/6/22</td>\n",
              "      <td>Finnish</td>\n",
              "      <td>Finland</td>\n",
              "      <td>True</td>\n",
              "      <td>0.681</td>\n",
              "      <td>True</td>\n",
              "    </tr>\n",
              "    <tr>\n",
              "      <th>4</th>\n",
              "      <td>NLTK NB</td>\n",
              "      <td>r/Suomi</td>\n",
              "      <td>4/6/22</td>\n",
              "      <td>Finnish</td>\n",
              "      <td>Finland</td>\n",
              "      <td>True</td>\n",
              "      <td>0.688</td>\n",
              "      <td>True</td>\n",
              "    </tr>\n",
              "    <tr>\n",
              "      <th>5</th>\n",
              "      <td>NLTK NB</td>\n",
              "      <td>r/Suomi</td>\n",
              "      <td>4/6/22</td>\n",
              "      <td>Finnish</td>\n",
              "      <td>Finland</td>\n",
              "      <td>True</td>\n",
              "      <td>0.703</td>\n",
              "      <td>True</td>\n",
              "    </tr>\n",
              "  </tbody>\n",
              "</table>\n",
              "</div>\n",
              "      <button class=\"colab-df-convert\" onclick=\"convertToInteractive('df-8080c188-1d4b-4657-8879-86d1e0b9f4a3')\"\n",
              "              title=\"Convert this dataframe to an interactive table.\"\n",
              "              style=\"display:none;\">\n",
              "        \n",
              "  <svg xmlns=\"http://www.w3.org/2000/svg\" height=\"24px\"viewBox=\"0 0 24 24\"\n",
              "       width=\"24px\">\n",
              "    <path d=\"M0 0h24v24H0V0z\" fill=\"none\"/>\n",
              "    <path d=\"M18.56 5.44l.94 2.06.94-2.06 2.06-.94-2.06-.94-.94-2.06-.94 2.06-2.06.94zm-11 1L8.5 8.5l.94-2.06 2.06-.94-2.06-.94L8.5 2.5l-.94 2.06-2.06.94zm10 10l.94 2.06.94-2.06 2.06-.94-2.06-.94-.94-2.06-.94 2.06-2.06.94z\"/><path d=\"M17.41 7.96l-1.37-1.37c-.4-.4-.92-.59-1.43-.59-.52 0-1.04.2-1.43.59L10.3 9.45l-7.72 7.72c-.78.78-.78 2.05 0 2.83L4 21.41c.39.39.9.59 1.41.59.51 0 1.02-.2 1.41-.59l7.78-7.78 2.81-2.81c.8-.78.8-2.07 0-2.86zM5.41 20L4 18.59l7.72-7.72 1.47 1.35L5.41 20z\"/>\n",
              "  </svg>\n",
              "      </button>\n",
              "      \n",
              "  <style>\n",
              "    .colab-df-container {\n",
              "      display:flex;\n",
              "      flex-wrap:wrap;\n",
              "      gap: 12px;\n",
              "    }\n",
              "\n",
              "    .colab-df-convert {\n",
              "      background-color: #E8F0FE;\n",
              "      border: none;\n",
              "      border-radius: 50%;\n",
              "      cursor: pointer;\n",
              "      display: none;\n",
              "      fill: #1967D2;\n",
              "      height: 32px;\n",
              "      padding: 0 0 0 0;\n",
              "      width: 32px;\n",
              "    }\n",
              "\n",
              "    .colab-df-convert:hover {\n",
              "      background-color: #E2EBFA;\n",
              "      box-shadow: 0px 1px 2px rgba(60, 64, 67, 0.3), 0px 1px 3px 1px rgba(60, 64, 67, 0.15);\n",
              "      fill: #174EA6;\n",
              "    }\n",
              "\n",
              "    [theme=dark] .colab-df-convert {\n",
              "      background-color: #3B4455;\n",
              "      fill: #D2E3FC;\n",
              "    }\n",
              "\n",
              "    [theme=dark] .colab-df-convert:hover {\n",
              "      background-color: #434B5C;\n",
              "      box-shadow: 0px 1px 3px 1px rgba(0, 0, 0, 0.15);\n",
              "      filter: drop-shadow(0px 1px 2px rgba(0, 0, 0, 0.3));\n",
              "      fill: #FFFFFF;\n",
              "    }\n",
              "  </style>\n",
              "\n",
              "      <script>\n",
              "        const buttonEl =\n",
              "          document.querySelector('#df-8080c188-1d4b-4657-8879-86d1e0b9f4a3 button.colab-df-convert');\n",
              "        buttonEl.style.display =\n",
              "          google.colab.kernel.accessAllowed ? 'block' : 'none';\n",
              "\n",
              "        async function convertToInteractive(key) {\n",
              "          const element = document.querySelector('#df-8080c188-1d4b-4657-8879-86d1e0b9f4a3');\n",
              "          const dataTable =\n",
              "            await google.colab.kernel.invokeFunction('convertToInteractive',\n",
              "                                                     [key], {});\n",
              "          if (!dataTable) return;\n",
              "\n",
              "          const docLinkHtml = 'Like what you see? Visit the ' +\n",
              "            '<a target=\"_blank\" href=https://colab.research.google.com/notebooks/data_table.ipynb>data table notebook</a>'\n",
              "            + ' to learn more about interactive tables.';\n",
              "          element.innerHTML = '';\n",
              "          dataTable['output_type'] = 'display_data';\n",
              "          await google.colab.output.renderOutput(dataTable, element);\n",
              "          const docLink = document.createElement('div');\n",
              "          docLink.innerHTML = docLinkHtml;\n",
              "          element.appendChild(docLink);\n",
              "        }\n",
              "      </script>\n",
              "    </div>\n",
              "  </div>\n",
              "  "
            ]
          },
          "metadata": {},
          "execution_count": 6
        }
      ]
    },
    {
      "cell_type": "code",
      "source": [
        "# Plot translation comparisons\n",
        "sns.set_theme(style=\"whitegrid\")\n",
        "plt.figure(dpi=200, figsize=(7, 2))\n",
        "\n",
        "res_models_ax = sns.pointplot(\n",
        "    data=res_df_trans,\n",
        "    x=\"translated\", y=\"portion_positive\", hue=\"native\", #style=\"language\",\n",
        "    join=True, palette='muted',\n",
        "    capsize=.1, #dodge=True, \n",
        "    errwidth=1, markers='o',\n",
        "    scale=0.5, linestyles='--',\n",
        "    #order=['Spain', 'South Africa', 'Turkey', 'Thailand',\n",
        "    #       'Norway', 'Brazil', 'Poland', 'Finland', 'China']\n",
        ")\n",
        "\n",
        "plt.xlabel('Is machine translated?')\n",
        "plt.ylabel('Positiveness')\n",
        "plt.ylim((0.59,0.83))\n",
        "plt.yticks([0.6, 0.65, 0.7, 0.75, 0.8])\n",
        "plt.title('Sentiments of r/Suomi before and after machine translation')\n",
        "res_models_ax.legend([])\n",
        "#plt.xticks(rotation=10)\n",
        "#res_models_ax.set_aspect(1)\n",
        "\n",
        "#plt.savefig('rsuomi_models.svg')\n",
        "plt.show()"
      ],
      "metadata": {
        "colab": {
          "base_uri": "https://localhost:8080/",
          "height": 407
        },
        "outputId": "51912508-be18-4b08-b9f4-bf88c9e89a99",
        "id": "v_8Gwee5FIlO"
      },
      "execution_count": 13,
      "outputs": [
        {
          "output_type": "display_data",
          "data": {
            "text/plain": [
              "<Figure size 1400x400 with 1 Axes>"
            ],
            "image/png": "[encoded data removed]"
          },
          "metadata": {}
        }
      ]
    },
    {
      "cell_type": "code",
      "source": [
        "# Select latest NLTK NB data\n",
        "res_df_latest = res_df[(res_df.model == 'NLTK NB') & \n",
        "                       (res_df['collection_date (M/D/Y)'].isin(['4/27/22', '4/26/22']))]\n",
        "res_df_latest.head()"
      ],
      "metadata": {
        "colab": {
          "base_uri": "https://localhost:8080/",
          "height": 206
        },
        "id": "wS-S9ypI8IrG",
        "outputId": "9a2e1aa0-cce7-4ae3-f81e-83f3fc17aafd"
      },
      "execution_count": 14,
      "outputs": [
        {
          "output_type": "execute_result",
          "data": {
            "text/plain": [
              "      model subreddit collection_date (M/D/Y) language country  translated  \\\n",
              "14  NLTK NB  r/poland                 4/26/22  English  Poland       False   \n",
              "15  NLTK NB  r/poland                 4/26/22  English  Poland       False   \n",
              "16  NLTK NB  r/poland                 4/26/22  English  Poland       False   \n",
              "17  NLTK NB  r/Brazil                 4/27/22  English  Brazil       False   \n",
              "18  NLTK NB  r/Brazil                 4/27/22  English  Brazil       False   \n",
              "\n",
              "    portion_positive  native  \n",
              "14             0.815   False  \n",
              "15             0.795   False  \n",
              "16             0.786   False  \n",
              "17             0.783   False  \n",
              "18             0.813   False  "
            ],
            "text/html": [
              "\n",
              "  <div id=\"df-5483df21-1696-4649-8693-3aeb2fda8678\">\n",
              "    <div class=\"colab-df-container\">\n",
              "      <div>\n",
              "<style scoped>\n",
              "    .dataframe tbody tr th:only-of-type {\n",
              "        vertical-align: middle;\n",
              "    }\n",
              "\n",
              "    .dataframe tbody tr th {\n",
              "        vertical-align: top;\n",
              "    }\n",
              "\n",
              "    .dataframe thead th {\n",
              "        text-align: right;\n",
              "    }\n",
              "</style>\n",
              "<table border=\"1\" class=\"dataframe\">\n",
              "  <thead>\n",
              "    <tr style=\"text-align: right;\">\n",
              "      <th></th>\n",
              "      <th>model</th>\n",
              "      <th>subreddit</th>\n",
              "      <th>collection_date (M/D/Y)</th>\n",
              "      <th>language</th>\n",
              "      <th>country</th>\n",
              "      <th>translated</th>\n",
              "      <th>portion_positive</th>\n",
              "      <th>native</th>\n",
              "    </tr>\n",
              "  </thead>\n",
              "  <tbody>\n",
              "    <tr>\n",
              "      <th>14</th>\n",
              "      <td>NLTK NB</td>\n",
              "      <td>r/poland</td>\n",
              "      <td>4/26/22</td>\n",
              "      <td>English</td>\n",
              "      <td>Poland</td>\n",
              "      <td>False</td>\n",
              "      <td>0.815</td>\n",
              "      <td>False</td>\n",
              "    </tr>\n",
              "    <tr>\n",
              "      <th>15</th>\n",
              "      <td>NLTK NB</td>\n",
              "      <td>r/poland</td>\n",
              "      <td>4/26/22</td>\n",
              "      <td>English</td>\n",
              "      <td>Poland</td>\n",
              "      <td>False</td>\n",
              "      <td>0.795</td>\n",
              "      <td>False</td>\n",
              "    </tr>\n",
              "    <tr>\n",
              "      <th>16</th>\n",
              "      <td>NLTK NB</td>\n",
              "      <td>r/poland</td>\n",
              "      <td>4/26/22</td>\n",
              "      <td>English</td>\n",
              "      <td>Poland</td>\n",
              "      <td>False</td>\n",
              "      <td>0.786</td>\n",
              "      <td>False</td>\n",
              "    </tr>\n",
              "    <tr>\n",
              "      <th>17</th>\n",
              "      <td>NLTK NB</td>\n",
              "      <td>r/Brazil</td>\n",
              "      <td>4/27/22</td>\n",
              "      <td>English</td>\n",
              "      <td>Brazil</td>\n",
              "      <td>False</td>\n",
              "      <td>0.783</td>\n",
              "      <td>False</td>\n",
              "    </tr>\n",
              "    <tr>\n",
              "      <th>18</th>\n",
              "      <td>NLTK NB</td>\n",
              "      <td>r/Brazil</td>\n",
              "      <td>4/27/22</td>\n",
              "      <td>English</td>\n",
              "      <td>Brazil</td>\n",
              "      <td>False</td>\n",
              "      <td>0.813</td>\n",
              "      <td>False</td>\n",
              "    </tr>\n",
              "  </tbody>\n",
              "</table>\n",
              "</div>\n",
              "      <button class=\"colab-df-convert\" onclick=\"convertToInteractive('df-5483df21-1696-4649-8693-3aeb2fda8678')\"\n",
              "              title=\"Convert this dataframe to an interactive table.\"\n",
              "              style=\"display:none;\">\n",
              "        \n",
              "  <svg xmlns=\"http://www.w3.org/2000/svg\" height=\"24px\"viewBox=\"0 0 24 24\"\n",
              "       width=\"24px\">\n",
              "    <path d=\"M0 0h24v24H0V0z\" fill=\"none\"/>\n",
              "    <path d=\"M18.56 5.44l.94 2.06.94-2.06 2.06-.94-2.06-.94-.94-2.06-.94 2.06-2.06.94zm-11 1L8.5 8.5l.94-2.06 2.06-.94-2.06-.94L8.5 2.5l-.94 2.06-2.06.94zm10 10l.94 2.06.94-2.06 2.06-.94-2.06-.94-.94-2.06-.94 2.06-2.06.94z\"/><path d=\"M17.41 7.96l-1.37-1.37c-.4-.4-.92-.59-1.43-.59-.52 0-1.04.2-1.43.59L10.3 9.45l-7.72 7.72c-.78.78-.78 2.05 0 2.83L4 21.41c.39.39.9.59 1.41.59.51 0 1.02-.2 1.41-.59l7.78-7.78 2.81-2.81c.8-.78.8-2.07 0-2.86zM5.41 20L4 18.59l7.72-7.72 1.47 1.35L5.41 20z\"/>\n",
              "  </svg>\n",
              "      </button>\n",
              "      \n",
              "  <style>\n",
              "    .colab-df-container {\n",
              "      display:flex;\n",
              "      flex-wrap:wrap;\n",
              "      gap: 12px;\n",
              "    }\n",
              "\n",
              "    .colab-df-convert {\n",
              "      background-color: #E8F0FE;\n",
              "      border: none;\n",
              "      border-radius: 50%;\n",
              "      cursor: pointer;\n",
              "      display: none;\n",
              "      fill: #1967D2;\n",
              "      height: 32px;\n",
              "      padding: 0 0 0 0;\n",
              "      width: 32px;\n",
              "    }\n",
              "\n",
              "    .colab-df-convert:hover {\n",
              "      background-color: #E2EBFA;\n",
              "      box-shadow: 0px 1px 2px rgba(60, 64, 67, 0.3), 0px 1px 3px 1px rgba(60, 64, 67, 0.15);\n",
              "      fill: #174EA6;\n",
              "    }\n",
              "\n",
              "    [theme=dark] .colab-df-convert {\n",
              "      background-color: #3B4455;\n",
              "      fill: #D2E3FC;\n",
              "    }\n",
              "\n",
              "    [theme=dark] .colab-df-convert:hover {\n",
              "      background-color: #434B5C;\n",
              "      box-shadow: 0px 1px 3px 1px rgba(0, 0, 0, 0.15);\n",
              "      filter: drop-shadow(0px 1px 2px rgba(0, 0, 0, 0.3));\n",
              "      fill: #FFFFFF;\n",
              "    }\n",
              "  </style>\n",
              "\n",
              "      <script>\n",
              "        const buttonEl =\n",
              "          document.querySelector('#df-5483df21-1696-4649-8693-3aeb2fda8678 button.colab-df-convert');\n",
              "        buttonEl.style.display =\n",
              "          google.colab.kernel.accessAllowed ? 'block' : 'none';\n",
              "\n",
              "        async function convertToInteractive(key) {\n",
              "          const element = document.querySelector('#df-5483df21-1696-4649-8693-3aeb2fda8678');\n",
              "          const dataTable =\n",
              "            await google.colab.kernel.invokeFunction('convertToInteractive',\n",
              "                                                     [key], {});\n",
              "          if (!dataTable) return;\n",
              "\n",
              "          const docLinkHtml = 'Like what you see? Visit the ' +\n",
              "            '<a target=\"_blank\" href=https://colab.research.google.com/notebooks/data_table.ipynb>data table notebook</a>'\n",
              "            + ' to learn more about interactive tables.';\n",
              "          element.innerHTML = '';\n",
              "          dataTable['output_type'] = 'display_data';\n",
              "          await google.colab.output.renderOutput(dataTable, element);\n",
              "          const docLink = document.createElement('div');\n",
              "          docLink.innerHTML = docLinkHtml;\n",
              "          element.appendChild(docLink);\n",
              "        }\n",
              "      </script>\n",
              "    </div>\n",
              "  </div>\n",
              "  "
            ]
          },
          "metadata": {},
          "execution_count": 14
        }
      ]
    },
    {
      "cell_type": "code",
      "source": [
        "res_df_latest.describe()"
      ],
      "metadata": {
        "colab": {
          "base_uri": "https://localhost:8080/",
          "height": 300
        },
        "id": "7VNptcV8gQlc",
        "outputId": "5b26efb4-41e4-4bf3-9118-1fbb80d4b283"
      },
      "execution_count": 15,
      "outputs": [
        {
          "output_type": "execute_result",
          "data": {
            "text/plain": [
              "       portion_positive\n",
              "count         60.000000\n",
              "mean           0.806450\n",
              "std            0.073299\n",
              "min            0.670000\n",
              "25%            0.757750\n",
              "50%            0.789000\n",
              "75%            0.858500\n",
              "max            0.952000"
            ],
            "text/html": [
              "\n",
              "  <div id=\"df-107b08f7-837d-4e83-a1ae-7b41066f1b17\">\n",
              "    <div class=\"colab-df-container\">\n",
              "      <div>\n",
              "<style scoped>\n",
              "    .dataframe tbody tr th:only-of-type {\n",
              "        vertical-align: middle;\n",
              "    }\n",
              "\n",
              "    .dataframe tbody tr th {\n",
              "        vertical-align: top;\n",
              "    }\n",
              "\n",
              "    .dataframe thead th {\n",
              "        text-align: right;\n",
              "    }\n",
              "</style>\n",
              "<table border=\"1\" class=\"dataframe\">\n",
              "  <thead>\n",
              "    <tr style=\"text-align: right;\">\n",
              "      <th></th>\n",
              "      <th>portion_positive</th>\n",
              "    </tr>\n",
              "  </thead>\n",
              "  <tbody>\n",
              "    <tr>\n",
              "      <th>count</th>\n",
              "      <td>60.000000</td>\n",
              "    </tr>\n",
              "    <tr>\n",
              "      <th>mean</th>\n",
              "      <td>0.806450</td>\n",
              "    </tr>\n",
              "    <tr>\n",
              "      <th>std</th>\n",
              "      <td>0.073299</td>\n",
              "    </tr>\n",
              "    <tr>\n",
              "      <th>min</th>\n",
              "      <td>0.670000</td>\n",
              "    </tr>\n",
              "    <tr>\n",
              "      <th>25%</th>\n",
              "      <td>0.757750</td>\n",
              "    </tr>\n",
              "    <tr>\n",
              "      <th>50%</th>\n",
              "      <td>0.789000</td>\n",
              "    </tr>\n",
              "    <tr>\n",
              "      <th>75%</th>\n",
              "      <td>0.858500</td>\n",
              "    </tr>\n",
              "    <tr>\n",
              "      <th>max</th>\n",
              "      <td>0.952000</td>\n",
              "    </tr>\n",
              "  </tbody>\n",
              "</table>\n",
              "</div>\n",
              "      <button class=\"colab-df-convert\" onclick=\"convertToInteractive('df-107b08f7-837d-4e83-a1ae-7b41066f1b17')\"\n",
              "              title=\"Convert this dataframe to an interactive table.\"\n",
              "              style=\"display:none;\">\n",
              "        \n",
              "  <svg xmlns=\"http://www.w3.org/2000/svg\" height=\"24px\"viewBox=\"0 0 24 24\"\n",
              "       width=\"24px\">\n",
              "    <path d=\"M0 0h24v24H0V0z\" fill=\"none\"/>\n",
              "    <path d=\"M18.56 5.44l.94 2.06.94-2.06 2.06-.94-2.06-.94-.94-2.06-.94 2.06-2.06.94zm-11 1L8.5 8.5l.94-2.06 2.06-.94-2.06-.94L8.5 2.5l-.94 2.06-2.06.94zm10 10l.94 2.06.94-2.06 2.06-.94-2.06-.94-.94-2.06-.94 2.06-2.06.94z\"/><path d=\"M17.41 7.96l-1.37-1.37c-.4-.4-.92-.59-1.43-.59-.52 0-1.04.2-1.43.59L10.3 9.45l-7.72 7.72c-.78.78-.78 2.05 0 2.83L4 21.41c.39.39.9.59 1.41.59.51 0 1.02-.2 1.41-.59l7.78-7.78 2.81-2.81c.8-.78.8-2.07 0-2.86zM5.41 20L4 18.59l7.72-7.72 1.47 1.35L5.41 20z\"/>\n",
              "  </svg>\n",
              "      </button>\n",
              "      \n",
              "  <style>\n",
              "    .colab-df-container {\n",
              "      display:flex;\n",
              "      flex-wrap:wrap;\n",
              "      gap: 12px;\n",
              "    }\n",
              "\n",
              "    .colab-df-convert {\n",
              "      background-color: #E8F0FE;\n",
              "      border: none;\n",
              "      border-radius: 50%;\n",
              "      cursor: pointer;\n",
              "      display: none;\n",
              "      fill: #1967D2;\n",
              "      height: 32px;\n",
              "      padding: 0 0 0 0;\n",
              "      width: 32px;\n",
              "    }\n",
              "\n",
              "    .colab-df-convert:hover {\n",
              "      background-color: #E2EBFA;\n",
              "      box-shadow: 0px 1px 2px rgba(60, 64, 67, 0.3), 0px 1px 3px 1px rgba(60, 64, 67, 0.15);\n",
              "      fill: #174EA6;\n",
              "    }\n",
              "\n",
              "    [theme=dark] .colab-df-convert {\n",
              "      background-color: #3B4455;\n",
              "      fill: #D2E3FC;\n",
              "    }\n",
              "\n",
              "    [theme=dark] .colab-df-convert:hover {\n",
              "      background-color: #434B5C;\n",
              "      box-shadow: 0px 1px 3px 1px rgba(0, 0, 0, 0.15);\n",
              "      filter: drop-shadow(0px 1px 2px rgba(0, 0, 0, 0.3));\n",
              "      fill: #FFFFFF;\n",
              "    }\n",
              "  </style>\n",
              "\n",
              "      <script>\n",
              "        const buttonEl =\n",
              "          document.querySelector('#df-107b08f7-837d-4e83-a1ae-7b41066f1b17 button.colab-df-convert');\n",
              "        buttonEl.style.display =\n",
              "          google.colab.kernel.accessAllowed ? 'block' : 'none';\n",
              "\n",
              "        async function convertToInteractive(key) {\n",
              "          const element = document.querySelector('#df-107b08f7-837d-4e83-a1ae-7b41066f1b17');\n",
              "          const dataTable =\n",
              "            await google.colab.kernel.invokeFunction('convertToInteractive',\n",
              "                                                     [key], {});\n",
              "          if (!dataTable) return;\n",
              "\n",
              "          const docLinkHtml = 'Like what you see? Visit the ' +\n",
              "            '<a target=\"_blank\" href=https://colab.research.google.com/notebooks/data_table.ipynb>data table notebook</a>'\n",
              "            + ' to learn more about interactive tables.';\n",
              "          element.innerHTML = '';\n",
              "          dataTable['output_type'] = 'display_data';\n",
              "          await google.colab.output.renderOutput(dataTable, element);\n",
              "          const docLink = document.createElement('div');\n",
              "          docLink.innerHTML = docLinkHtml;\n",
              "          element.appendChild(docLink);\n",
              "        }\n",
              "      </script>\n",
              "    </div>\n",
              "  </div>\n",
              "  "
            ]
          },
          "metadata": {},
          "execution_count": 15
        }
      ]
    },
    {
      "cell_type": "code",
      "source": [
        "# Plot latest data\n",
        "sns.set_theme(style=\"whitegrid\")\n",
        "plt.figure(dpi=200, figsize=(7, 3))\n",
        "\n",
        "res_latest_ax = sns.pointplot(\n",
        "    data=res_df_latest,\n",
        "    x=\"country\", y=\"portion_positive\", hue=\"native\", #style=\"language\",\n",
        "    join=False, palette='cubehelix',\n",
        "    capsize=.1, dodge=True, \n",
        "    errwidth=1, markers='o',\n",
        "    scale=0.5,\n",
        "    order=['Spain', 'South Africa', 'Turkey', 'Thailand',\n",
        "           'Norway', 'Brazil', 'Poland', 'Finland', 'China']\n",
        ")\n",
        "\n",
        "plt.xlabel('Country/Region')\n",
        "plt.ylabel('Proportion of positive sentiment')\n",
        "plt.xticks(rotation=25)\n",
        "plt.title('Sentiments for Native and Non-native Subreddits of Countries')\n",
        "res_latest_ax.legend(title='In native language?')\n",
        "\n",
        "#plt.savefig('native_nonnative.svg')\n",
        "plt.show()"
      ],
      "metadata": {
        "colab": {
          "base_uri": "https://localhost:8080/",
          "height": 589
        },
        "id": "uBi5m1gH8B-H",
        "outputId": "c93bd890-299d-45f4-ff7e-40b14b7bfa10"
      },
      "execution_count": 16,
      "outputs": [
        {
          "output_type": "display_data",
          "data": {
            "text/plain": [
              "<Figure size 1400x600 with 1 Axes>"
            ],
            "image/png": "[encoded data removed]"
          },
          "metadata": {}
        }
      ]
    },
    {
      "cell_type": "code",
      "source": [
        "# Then try different models\n",
        "res_df_models = res_df[(res_df.language == 'Finnish') & \n",
        "                       (res_df['collection_date (M/D/Y)'].isin(['4/6/22'])) &\n",
        "                       (res_df.translated == False)]\n",
        "res_df_models.head()"
      ],
      "metadata": {
        "colab": {
          "base_uri": "https://localhost:8080/",
          "height": 206
        },
        "id": "HXtn-jrpIjye",
        "outputId": "33466a6b-69a2-4dbb-c390-edd50699743a"
      },
      "execution_count": 17,
      "outputs": [
        {
          "output_type": "execute_result",
          "data": {
            "text/plain": [
              "     model subreddit collection_date (M/D/Y) language  country  translated  \\\n",
              "0  NLTK NB   r/Suomi                  4/6/22  Finnish  Finland       False   \n",
              "1  NLTK NB   r/Suomi                  4/6/22  Finnish  Finland       False   \n",
              "2  NLTK NB   r/Suomi                  4/6/22  Finnish  Finland       False   \n",
              "8   SKL NB   r/Suomi                  4/6/22  Finnish  Finland       False   \n",
              "9   SKL NB   r/Suomi                  4/6/22  Finnish  Finland       False   \n",
              "\n",
              "   portion_positive  native  \n",
              "0             0.703    True  \n",
              "1             0.703    True  \n",
              "2             0.739    True  \n",
              "8             0.739    True  \n",
              "9             0.754    True  "
            ],
            "text/html": [
              "\n",
              "  <div id=\"df-f8c39f92-8567-49c9-89cf-a97b3841be40\">\n",
              "    <div class=\"colab-df-container\">\n",
              "      <div>\n",
              "<style scoped>\n",
              "    .dataframe tbody tr th:only-of-type {\n",
              "        vertical-align: middle;\n",
              "    }\n",
              "\n",
              "    .dataframe tbody tr th {\n",
              "        vertical-align: top;\n",
              "    }\n",
              "\n",
              "    .dataframe thead th {\n",
              "        text-align: right;\n",
              "    }\n",
              "</style>\n",
              "<table border=\"1\" class=\"dataframe\">\n",
              "  <thead>\n",
              "    <tr style=\"text-align: right;\">\n",
              "      <th></th>\n",
              "      <th>model</th>\n",
              "      <th>subreddit</th>\n",
              "      <th>collection_date (M/D/Y)</th>\n",
              "      <th>language</th>\n",
              "      <th>country</th>\n",
              "      <th>translated</th>\n",
              "      <th>portion_positive</th>\n",
              "      <th>native</th>\n",
              "    </tr>\n",
              "  </thead>\n",
              "  <tbody>\n",
              "    <tr>\n",
              "      <th>0</th>\n",
              "      <td>NLTK NB</td>\n",
              "      <td>r/Suomi</td>\n",
              "      <td>4/6/22</td>\n",
              "      <td>Finnish</td>\n",
              "      <td>Finland</td>\n",
              "      <td>False</td>\n",
              "      <td>0.703</td>\n",
              "      <td>True</td>\n",
              "    </tr>\n",
              "    <tr>\n",
              "      <th>1</th>\n",
              "      <td>NLTK NB</td>\n",
              "      <td>r/Suomi</td>\n",
              "      <td>4/6/22</td>\n",
              "      <td>Finnish</td>\n",
              "      <td>Finland</td>\n",
              "      <td>False</td>\n",
              "      <td>0.703</td>\n",
              "      <td>True</td>\n",
              "    </tr>\n",
              "    <tr>\n",
              "      <th>2</th>\n",
              "      <td>NLTK NB</td>\n",
              "      <td>r/Suomi</td>\n",
              "      <td>4/6/22</td>\n",
              "      <td>Finnish</td>\n",
              "      <td>Finland</td>\n",
              "      <td>False</td>\n",
              "      <td>0.739</td>\n",
              "      <td>True</td>\n",
              "    </tr>\n",
              "    <tr>\n",
              "      <th>8</th>\n",
              "      <td>SKL NB</td>\n",
              "      <td>r/Suomi</td>\n",
              "      <td>4/6/22</td>\n",
              "      <td>Finnish</td>\n",
              "      <td>Finland</td>\n",
              "      <td>False</td>\n",
              "      <td>0.739</td>\n",
              "      <td>True</td>\n",
              "    </tr>\n",
              "    <tr>\n",
              "      <th>9</th>\n",
              "      <td>SKL NB</td>\n",
              "      <td>r/Suomi</td>\n",
              "      <td>4/6/22</td>\n",
              "      <td>Finnish</td>\n",
              "      <td>Finland</td>\n",
              "      <td>False</td>\n",
              "      <td>0.754</td>\n",
              "      <td>True</td>\n",
              "    </tr>\n",
              "  </tbody>\n",
              "</table>\n",
              "</div>\n",
              "      <button class=\"colab-df-convert\" onclick=\"convertToInteractive('df-f8c39f92-8567-49c9-89cf-a97b3841be40')\"\n",
              "              title=\"Convert this dataframe to an interactive table.\"\n",
              "              style=\"display:none;\">\n",
              "        \n",
              "  <svg xmlns=\"http://www.w3.org/2000/svg\" height=\"24px\"viewBox=\"0 0 24 24\"\n",
              "       width=\"24px\">\n",
              "    <path d=\"M0 0h24v24H0V0z\" fill=\"none\"/>\n",
              "    <path d=\"M18.56 5.44l.94 2.06.94-2.06 2.06-.94-2.06-.94-.94-2.06-.94 2.06-2.06.94zm-11 1L8.5 8.5l.94-2.06 2.06-.94-2.06-.94L8.5 2.5l-.94 2.06-2.06.94zm10 10l.94 2.06.94-2.06 2.06-.94-2.06-.94-.94-2.06-.94 2.06-2.06.94z\"/><path d=\"M17.41 7.96l-1.37-1.37c-.4-.4-.92-.59-1.43-.59-.52 0-1.04.2-1.43.59L10.3 9.45l-7.72 7.72c-.78.78-.78 2.05 0 2.83L4 21.41c.39.39.9.59 1.41.59.51 0 1.02-.2 1.41-.59l7.78-7.78 2.81-2.81c.8-.78.8-2.07 0-2.86zM5.41 20L4 18.59l7.72-7.72 1.47 1.35L5.41 20z\"/>\n",
              "  </svg>\n",
              "      </button>\n",
              "      \n",
              "  <style>\n",
              "    .colab-df-container {\n",
              "      display:flex;\n",
              "      flex-wrap:wrap;\n",
              "      gap: 12px;\n",
              "    }\n",
              "\n",
              "    .colab-df-convert {\n",
              "      background-color: #E8F0FE;\n",
              "      border: none;\n",
              "      border-radius: 50%;\n",
              "      cursor: pointer;\n",
              "      display: none;\n",
              "      fill: #1967D2;\n",
              "      height: 32px;\n",
              "      padding: 0 0 0 0;\n",
              "      width: 32px;\n",
              "    }\n",
              "\n",
              "    .colab-df-convert:hover {\n",
              "      background-color: #E2EBFA;\n",
              "      box-shadow: 0px 1px 2px rgba(60, 64, 67, 0.3), 0px 1px 3px 1px rgba(60, 64, 67, 0.15);\n",
              "      fill: #174EA6;\n",
              "    }\n",
              "\n",
              "    [theme=dark] .colab-df-convert {\n",
              "      background-color: #3B4455;\n",
              "      fill: #D2E3FC;\n",
              "    }\n",
              "\n",
              "    [theme=dark] .colab-df-convert:hover {\n",
              "      background-color: #434B5C;\n",
              "      box-shadow: 0px 1px 3px 1px rgba(0, 0, 0, 0.15);\n",
              "      filter: drop-shadow(0px 1px 2px rgba(0, 0, 0, 0.3));\n",
              "      fill: #FFFFFF;\n",
              "    }\n",
              "  </style>\n",
              "\n",
              "      <script>\n",
              "        const buttonEl =\n",
              "          document.querySelector('#df-f8c39f92-8567-49c9-89cf-a97b3841be40 button.colab-df-convert');\n",
              "        buttonEl.style.display =\n",
              "          google.colab.kernel.accessAllowed ? 'block' : 'none';\n",
              "\n",
              "        async function convertToInteractive(key) {\n",
              "          const element = document.querySelector('#df-f8c39f92-8567-49c9-89cf-a97b3841be40');\n",
              "          const dataTable =\n",
              "            await google.colab.kernel.invokeFunction('convertToInteractive',\n",
              "                                                     [key], {});\n",
              "          if (!dataTable) return;\n",
              "\n",
              "          const docLinkHtml = 'Like what you see? Visit the ' +\n",
              "            '<a target=\"_blank\" href=https://colab.research.google.com/notebooks/data_table.ipynb>data table notebook</a>'\n",
              "            + ' to learn more about interactive tables.';\n",
              "          element.innerHTML = '';\n",
              "          dataTable['output_type'] = 'display_data';\n",
              "          await google.colab.output.renderOutput(dataTable, element);\n",
              "          const docLink = document.createElement('div');\n",
              "          docLink.innerHTML = docLinkHtml;\n",
              "          element.appendChild(docLink);\n",
              "        }\n",
              "      </script>\n",
              "    </div>\n",
              "  </div>\n",
              "  "
            ]
          },
          "metadata": {},
          "execution_count": 17
        }
      ]
    },
    {
      "cell_type": "code",
      "source": [
        "# Plot model comparisons\n",
        "sns.set_theme(style=\"darkgrid\")\n",
        "sns.set_context('paper')\n",
        "plt.figure(dpi=200)\n",
        "\n",
        "res_models_ax = sns.pointplot(\n",
        "    data=res_df_models,\n",
        "    x=\"model\", y=\"portion_positive\", hue=\"native\", #style=\"language\",\n",
        "    join=False, palette='muted',\n",
        "    capsize=.1, #dodge=True, \n",
        "    errwidth=1, markers='o',\n",
        "    scale=0.5,\n",
        "    #order=['Spain', 'South Africa', 'Turkey', 'Thailand',\n",
        "    #       'Norway', 'Brazil', 'Poland', 'Finland', 'China']\n",
        ")\n",
        "\n",
        "plt.xlabel('Models')\n",
        "plt.ylabel('Positiveness')\n",
        "plt.title('Sentiments of r/Suomi as predicted by different models')\n",
        "res_models_ax.legend([])\n",
        "#plt.xticks(rotation=10)\n",
        "res_models_ax.set_aspect(2.5)\n",
        "\n",
        "plt.savefig('rsuomi_models.svg')\n",
        "plt.show()"
      ],
      "metadata": {
        "colab": {
          "base_uri": "https://localhost:8080/",
          "height": 490
        },
        "id": "lm8fJwUpKlJZ",
        "outputId": "382f4965-01e0-4d08-8cea-44187d6c5500"
      },
      "execution_count": 18,
      "outputs": [
        {
          "output_type": "display_data",
          "data": {
            "text/plain": [
              "<Figure size 1200x800 with 1 Axes>"
            ],
            "image/png": "[encoded data removed]"
          },
          "metadata": {}
        }
      ]
    },
    {
      "cell_type": "code",
      "source": [
        "# Then try only looking at Finland\n",
        "res_df_fi = res_df[(res_df.model == 'NLTK NB') & \n",
        "                       (res_df.country == 'Finland')]\n",
        "res_df_fi.head()"
      ],
      "metadata": {
        "colab": {
          "base_uri": "https://localhost:8080/",
          "height": 206
        },
        "id": "slNUib6NNy-p",
        "outputId": "e0a2ea7a-86f6-44e5-ab5b-26b4b198371e"
      },
      "execution_count": 19,
      "outputs": [
        {
          "output_type": "execute_result",
          "data": {
            "text/plain": [
              "     model subreddit collection_date (M/D/Y) language  country  translated  \\\n",
              "0  NLTK NB   r/Suomi                  4/6/22  Finnish  Finland       False   \n",
              "1  NLTK NB   r/Suomi                  4/6/22  Finnish  Finland       False   \n",
              "2  NLTK NB   r/Suomi                  4/6/22  Finnish  Finland       False   \n",
              "3  NLTK NB   r/Suomi                  4/6/22  Finnish  Finland        True   \n",
              "4  NLTK NB   r/Suomi                  4/6/22  Finnish  Finland        True   \n",
              "\n",
              "   portion_positive  native  \n",
              "0             0.703    True  \n",
              "1             0.703    True  \n",
              "2             0.739    True  \n",
              "3             0.681    True  \n",
              "4             0.688    True  "
            ],
            "text/html": [
              "\n",
              "  <div id=\"df-fcd29412-7a0d-4504-b40b-5692e7f10663\">\n",
              "    <div class=\"colab-df-container\">\n",
              "      <div>\n",
              "<style scoped>\n",
              "    .dataframe tbody tr th:only-of-type {\n",
              "        vertical-align: middle;\n",
              "    }\n",
              "\n",
              "    .dataframe tbody tr th {\n",
              "        vertical-align: top;\n",
              "    }\n",
              "\n",
              "    .dataframe thead th {\n",
              "        text-align: right;\n",
              "    }\n",
              "</style>\n",
              "<table border=\"1\" class=\"dataframe\">\n",
              "  <thead>\n",
              "    <tr style=\"text-align: right;\">\n",
              "      <th></th>\n",
              "      <th>model</th>\n",
              "      <th>subreddit</th>\n",
              "      <th>collection_date (M/D/Y)</th>\n",
              "      <th>language</th>\n",
              "      <th>country</th>\n",
              "      <th>translated</th>\n",
              "      <th>portion_positive</th>\n",
              "      <th>native</th>\n",
              "    </tr>\n",
              "  </thead>\n",
              "  <tbody>\n",
              "    <tr>\n",
              "      <th>0</th>\n",
              "      <td>NLTK NB</td>\n",
              "      <td>r/Suomi</td>\n",
              "      <td>4/6/22</td>\n",
              "      <td>Finnish</td>\n",
              "      <td>Finland</td>\n",
              "      <td>False</td>\n",
              "      <td>0.703</td>\n",
              "      <td>True</td>\n",
              "    </tr>\n",
              "    <tr>\n",
              "      <th>1</th>\n",
              "      <td>NLTK NB</td>\n",
              "      <td>r/Suomi</td>\n",
              "      <td>4/6/22</td>\n",
              "      <td>Finnish</td>\n",
              "      <td>Finland</td>\n",
              "      <td>False</td>\n",
              "      <td>0.703</td>\n",
              "      <td>True</td>\n",
              "    </tr>\n",
              "    <tr>\n",
              "      <th>2</th>\n",
              "      <td>NLTK NB</td>\n",
              "      <td>r/Suomi</td>\n",
              "      <td>4/6/22</td>\n",
              "      <td>Finnish</td>\n",
              "      <td>Finland</td>\n",
              "      <td>False</td>\n",
              "      <td>0.739</td>\n",
              "      <td>True</td>\n",
              "    </tr>\n",
              "    <tr>\n",
              "      <th>3</th>\n",
              "      <td>NLTK NB</td>\n",
              "      <td>r/Suomi</td>\n",
              "      <td>4/6/22</td>\n",
              "      <td>Finnish</td>\n",
              "      <td>Finland</td>\n",
              "      <td>True</td>\n",
              "      <td>0.681</td>\n",
              "      <td>True</td>\n",
              "    </tr>\n",
              "    <tr>\n",
              "      <th>4</th>\n",
              "      <td>NLTK NB</td>\n",
              "      <td>r/Suomi</td>\n",
              "      <td>4/6/22</td>\n",
              "      <td>Finnish</td>\n",
              "      <td>Finland</td>\n",
              "      <td>True</td>\n",
              "      <td>0.688</td>\n",
              "      <td>True</td>\n",
              "    </tr>\n",
              "  </tbody>\n",
              "</table>\n",
              "</div>\n",
              "      <button class=\"colab-df-convert\" onclick=\"convertToInteractive('df-fcd29412-7a0d-4504-b40b-5692e7f10663')\"\n",
              "              title=\"Convert this dataframe to an interactive table.\"\n",
              "              style=\"display:none;\">\n",
              "        \n",
              "  <svg xmlns=\"http://www.w3.org/2000/svg\" height=\"24px\"viewBox=\"0 0 24 24\"\n",
              "       width=\"24px\">\n",
              "    <path d=\"M0 0h24v24H0V0z\" fill=\"none\"/>\n",
              "    <path d=\"M18.56 5.44l.94 2.06.94-2.06 2.06-.94-2.06-.94-.94-2.06-.94 2.06-2.06.94zm-11 1L8.5 8.5l.94-2.06 2.06-.94-2.06-.94L8.5 2.5l-.94 2.06-2.06.94zm10 10l.94 2.06.94-2.06 2.06-.94-2.06-.94-.94-2.06-.94 2.06-2.06.94z\"/><path d=\"M17.41 7.96l-1.37-1.37c-.4-.4-.92-.59-1.43-.59-.52 0-1.04.2-1.43.59L10.3 9.45l-7.72 7.72c-.78.78-.78 2.05 0 2.83L4 21.41c.39.39.9.59 1.41.59.51 0 1.02-.2 1.41-.59l7.78-7.78 2.81-2.81c.8-.78.8-2.07 0-2.86zM5.41 20L4 18.59l7.72-7.72 1.47 1.35L5.41 20z\"/>\n",
              "  </svg>\n",
              "      </button>\n",
              "      \n",
              "  <style>\n",
              "    .colab-df-container {\n",
              "      display:flex;\n",
              "      flex-wrap:wrap;\n",
              "      gap: 12px;\n",
              "    }\n",
              "\n",
              "    .colab-df-convert {\n",
              "      background-color: #E8F0FE;\n",
              "      border: none;\n",
              "      border-radius: 50%;\n",
              "      cursor: pointer;\n",
              "      display: none;\n",
              "      fill: #1967D2;\n",
              "      height: 32px;\n",
              "      padding: 0 0 0 0;\n",
              "      width: 32px;\n",
              "    }\n",
              "\n",
              "    .colab-df-convert:hover {\n",
              "      background-color: #E2EBFA;\n",
              "      box-shadow: 0px 1px 2px rgba(60, 64, 67, 0.3), 0px 1px 3px 1px rgba(60, 64, 67, 0.15);\n",
              "      fill: #174EA6;\n",
              "    }\n",
              "\n",
              "    [theme=dark] .colab-df-convert {\n",
              "      background-color: #3B4455;\n",
              "      fill: #D2E3FC;\n",
              "    }\n",
              "\n",
              "    [theme=dark] .colab-df-convert:hover {\n",
              "      background-color: #434B5C;\n",
              "      box-shadow: 0px 1px 3px 1px rgba(0, 0, 0, 0.15);\n",
              "      filter: drop-shadow(0px 1px 2px rgba(0, 0, 0, 0.3));\n",
              "      fill: #FFFFFF;\n",
              "    }\n",
              "  </style>\n",
              "\n",
              "      <script>\n",
              "        const buttonEl =\n",
              "          document.querySelector('#df-fcd29412-7a0d-4504-b40b-5692e7f10663 button.colab-df-convert');\n",
              "        buttonEl.style.display =\n",
              "          google.colab.kernel.accessAllowed ? 'block' : 'none';\n",
              "\n",
              "        async function convertToInteractive(key) {\n",
              "          const element = document.querySelector('#df-fcd29412-7a0d-4504-b40b-5692e7f10663');\n",
              "          const dataTable =\n",
              "            await google.colab.kernel.invokeFunction('convertToInteractive',\n",
              "                                                     [key], {});\n",
              "          if (!dataTable) return;\n",
              "\n",
              "          const docLinkHtml = 'Like what you see? Visit the ' +\n",
              "            '<a target=\"_blank\" href=https://colab.research.google.com/notebooks/data_table.ipynb>data table notebook</a>'\n",
              "            + ' to learn more about interactive tables.';\n",
              "          element.innerHTML = '';\n",
              "          dataTable['output_type'] = 'display_data';\n",
              "          await google.colab.output.renderOutput(dataTable, element);\n",
              "          const docLink = document.createElement('div');\n",
              "          docLink.innerHTML = docLinkHtml;\n",
              "          element.appendChild(docLink);\n",
              "        }\n",
              "      </script>\n",
              "    </div>\n",
              "  </div>\n",
              "  "
            ]
          },
          "metadata": {},
          "execution_count": 19
        }
      ]
    },
    {
      "cell_type": "code",
      "source": [
        "res_df_fi.describe()"
      ],
      "metadata": {
        "colab": {
          "base_uri": "https://localhost:8080/",
          "height": 300
        },
        "id": "cC3ktbNhf6pu",
        "outputId": "42dc2652-eef5-4a1e-f99f-19f7dd7e6ed4"
      },
      "execution_count": 20,
      "outputs": [
        {
          "output_type": "execute_result",
          "data": {
            "text/plain": [
              "       portion_positive\n",
              "count         14.000000\n",
              "mean           0.743214\n",
              "std            0.047997\n",
              "min            0.681000\n",
              "25%            0.703000\n",
              "50%            0.746500\n",
              "75%            0.771000\n",
              "max            0.836000"
            ],
            "text/html": [
              "\n",
              "  <div id=\"df-ad851667-096d-42ad-85d3-218912b10029\">\n",
              "    <div class=\"colab-df-container\">\n",
              "      <div>\n",
              "<style scoped>\n",
              "    .dataframe tbody tr th:only-of-type {\n",
              "        vertical-align: middle;\n",
              "    }\n",
              "\n",
              "    .dataframe tbody tr th {\n",
              "        vertical-align: top;\n",
              "    }\n",
              "\n",
              "    .dataframe thead th {\n",
              "        text-align: right;\n",
              "    }\n",
              "</style>\n",
              "<table border=\"1\" class=\"dataframe\">\n",
              "  <thead>\n",
              "    <tr style=\"text-align: right;\">\n",
              "      <th></th>\n",
              "      <th>portion_positive</th>\n",
              "    </tr>\n",
              "  </thead>\n",
              "  <tbody>\n",
              "    <tr>\n",
              "      <th>count</th>\n",
              "      <td>14.000000</td>\n",
              "    </tr>\n",
              "    <tr>\n",
              "      <th>mean</th>\n",
              "      <td>0.743214</td>\n",
              "    </tr>\n",
              "    <tr>\n",
              "      <th>std</th>\n",
              "      <td>0.047997</td>\n",
              "    </tr>\n",
              "    <tr>\n",
              "      <th>min</th>\n",
              "      <td>0.681000</td>\n",
              "    </tr>\n",
              "    <tr>\n",
              "      <th>25%</th>\n",
              "      <td>0.703000</td>\n",
              "    </tr>\n",
              "    <tr>\n",
              "      <th>50%</th>\n",
              "      <td>0.746500</td>\n",
              "    </tr>\n",
              "    <tr>\n",
              "      <th>75%</th>\n",
              "      <td>0.771000</td>\n",
              "    </tr>\n",
              "    <tr>\n",
              "      <th>max</th>\n",
              "      <td>0.836000</td>\n",
              "    </tr>\n",
              "  </tbody>\n",
              "</table>\n",
              "</div>\n",
              "      <button class=\"colab-df-convert\" onclick=\"convertToInteractive('df-ad851667-096d-42ad-85d3-218912b10029')\"\n",
              "              title=\"Convert this dataframe to an interactive table.\"\n",
              "              style=\"display:none;\">\n",
              "        \n",
              "  <svg xmlns=\"http://www.w3.org/2000/svg\" height=\"24px\"viewBox=\"0 0 24 24\"\n",
              "       width=\"24px\">\n",
              "    <path d=\"M0 0h24v24H0V0z\" fill=\"none\"/>\n",
              "    <path d=\"M18.56 5.44l.94 2.06.94-2.06 2.06-.94-2.06-.94-.94-2.06-.94 2.06-2.06.94zm-11 1L8.5 8.5l.94-2.06 2.06-.94-2.06-.94L8.5 2.5l-.94 2.06-2.06.94zm10 10l.94 2.06.94-2.06 2.06-.94-2.06-.94-.94-2.06-.94 2.06-2.06.94z\"/><path d=\"M17.41 7.96l-1.37-1.37c-.4-.4-.92-.59-1.43-.59-.52 0-1.04.2-1.43.59L10.3 9.45l-7.72 7.72c-.78.78-.78 2.05 0 2.83L4 21.41c.39.39.9.59 1.41.59.51 0 1.02-.2 1.41-.59l7.78-7.78 2.81-2.81c.8-.78.8-2.07 0-2.86zM5.41 20L4 18.59l7.72-7.72 1.47 1.35L5.41 20z\"/>\n",
              "  </svg>\n",
              "      </button>\n",
              "      \n",
              "  <style>\n",
              "    .colab-df-container {\n",
              "      display:flex;\n",
              "      flex-wrap:wrap;\n",
              "      gap: 12px;\n",
              "    }\n",
              "\n",
              "    .colab-df-convert {\n",
              "      background-color: #E8F0FE;\n",
              "      border: none;\n",
              "      border-radius: 50%;\n",
              "      cursor: pointer;\n",
              "      display: none;\n",
              "      fill: #1967D2;\n",
              "      height: 32px;\n",
              "      padding: 0 0 0 0;\n",
              "      width: 32px;\n",
              "    }\n",
              "\n",
              "    .colab-df-convert:hover {\n",
              "      background-color: #E2EBFA;\n",
              "      box-shadow: 0px 1px 2px rgba(60, 64, 67, 0.3), 0px 1px 3px 1px rgba(60, 64, 67, 0.15);\n",
              "      fill: #174EA6;\n",
              "    }\n",
              "\n",
              "    [theme=dark] .colab-df-convert {\n",
              "      background-color: #3B4455;\n",
              "      fill: #D2E3FC;\n",
              "    }\n",
              "\n",
              "    [theme=dark] .colab-df-convert:hover {\n",
              "      background-color: #434B5C;\n",
              "      box-shadow: 0px 1px 3px 1px rgba(0, 0, 0, 0.15);\n",
              "      filter: drop-shadow(0px 1px 2px rgba(0, 0, 0, 0.3));\n",
              "      fill: #FFFFFF;\n",
              "    }\n",
              "  </style>\n",
              "\n",
              "      <script>\n",
              "        const buttonEl =\n",
              "          document.querySelector('#df-ad851667-096d-42ad-85d3-218912b10029 button.colab-df-convert');\n",
              "        buttonEl.style.display =\n",
              "          google.colab.kernel.accessAllowed ? 'block' : 'none';\n",
              "\n",
              "        async function convertToInteractive(key) {\n",
              "          const element = document.querySelector('#df-ad851667-096d-42ad-85d3-218912b10029');\n",
              "          const dataTable =\n",
              "            await google.colab.kernel.invokeFunction('convertToInteractive',\n",
              "                                                     [key], {});\n",
              "          if (!dataTable) return;\n",
              "\n",
              "          const docLinkHtml = 'Like what you see? Visit the ' +\n",
              "            '<a target=\"_blank\" href=https://colab.research.google.com/notebooks/data_table.ipynb>data table notebook</a>'\n",
              "            + ' to learn more about interactive tables.';\n",
              "          element.innerHTML = '';\n",
              "          dataTable['output_type'] = 'display_data';\n",
              "          await google.colab.output.renderOutput(dataTable, element);\n",
              "          const docLink = document.createElement('div');\n",
              "          docLink.innerHTML = docLinkHtml;\n",
              "          element.appendChild(docLink);\n",
              "        }\n",
              "      </script>\n",
              "    </div>\n",
              "  </div>\n",
              "  "
            ]
          },
          "metadata": {},
          "execution_count": 20
        }
      ]
    },
    {
      "cell_type": "code",
      "source": [
        "# Try looking at how time influences the result\n",
        "\n",
        "sns.set_theme(style=\"whitegrid\")\n",
        "plt.figure(dpi=200, figsize=(7, 2.5))\n",
        "\n",
        "res_models_ax = sns.pointplot(\n",
        "    data=res_df_fi,\n",
        "    x=\"collection_date (M/D/Y)\", y=\"portion_positive\", hue=\"native\",\n",
        "    join=True, \n",
        "    palette='cubehelix',\n",
        "    capsize=.1, dodge=True, \n",
        "    errwidth=1, markers='o',\n",
        "    scale=0.5, linestyles='--',\n",
        "    #order=['Spain', 'South Africa', 'Turkey', 'Thailand',\n",
        "    #       'Norway', 'Brazil', 'Poland', 'Finland', 'China']\n",
        ")\n",
        "\n",
        "plt.xlabel('Collection Date (M/D/Y)')\n",
        "plt.ylabel('Positiveness')\n",
        "#plt.xticks(rotation=25)\n",
        "plt.title('Sentiments of Subreddits on Finland Over Time')\n",
        "res_models_ax.legend(title='In native language?', ncol=2)\n",
        "\n",
        "plt.savefig('finland_time_series.svg')\n",
        "plt.show()"
      ],
      "metadata": {
        "colab": {
          "base_uri": "https://localhost:8080/",
          "height": 467
        },
        "id": "CKp-_uyfONhW",
        "outputId": "54487aec-deb0-4961-ff60-dd1229fb6f07"
      },
      "execution_count": 22,
      "outputs": [
        {
          "output_type": "display_data",
          "data": {
            "text/plain": [
              "<Figure size 1400x500 with 1 Axes>"
            ],
            "image/png": "[encoded data removed]"
          },
          "metadata": {}
        }
      ]
    }
  ]
}